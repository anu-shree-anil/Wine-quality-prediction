{
  "nbformat": 4,
  "nbformat_minor": 0,
  "metadata": {
    "colab": {
      "name": "Mini_Project.ipynb",
      "provenance": [],
      "collapsed_sections": [],
      "include_colab_link": true
    },
    "kernelspec": {
      "display_name": "Python 3",
      "name": "python3"
    },
    "language_info": {
      "name": "python"
    }
  },
  "cells": [
    {
      "cell_type": "markdown",
      "metadata": {
        "id": "view-in-github",
        "colab_type": "text"
      },
      "source": [
        "<a href=\"https://colab.research.google.com/github/anu-shree-anil/Wine-quality-prediction/blob/main/Mini_Project.ipynb\" target=\"_parent\"><img src=\"https://colab.research.google.com/assets/colab-badge.svg\" alt=\"Open In Colab\"/></a>"
      ]
    },
    {
      "cell_type": "markdown",
      "metadata": {
        "id": "0SJbWg8-3s_E"
      },
      "source": [
        "## Importing the libraries"
      ]
    },
    {
      "cell_type": "code",
      "metadata": {
        "id": "v3wB5RFVokw9"
      },
      "source": [
        "import numpy as np\n",
        "import pandas as pd\n",
        "import matplotlib.pyplot as plt\n",
        "import seaborn as sns\n",
        "from sklearn.model_selection import train_test_split\n",
        "from sklearn import svm\n",
        "from sklearn.model_selection import cross_val_score\n",
        "from sklearn.model_selection import validation_curve\n",
        "from sklearn import metrics\n",
        "from sklearn.model_selection import KFold\n",
        "from sklearn.preprocessing import StandardScaler\n",
        "from sklearn.model_selection import GridSearchCV"
      ],
      "execution_count": null,
      "outputs": []
    },
    {
      "cell_type": "code",
      "metadata": {
        "colab": {
          "base_uri": "https://localhost:8080/"
        },
        "id": "wgF_IOYxfZd8",
        "outputId": "91624393-1a49-4adb-f982-1add098314e5"
      },
      "source": [
        "from google.colab import drive\n",
        "drive.mount('/content/drive')"
      ],
      "execution_count": null,
      "outputs": [
        {
          "output_type": "stream",
          "name": "stdout",
          "text": [
            "Drive already mounted at /content/drive; to attempt to forcibly remount, call drive.mount(\"/content/drive\", force_remount=True).\n"
          ]
        }
      ]
    },
    {
      "cell_type": "markdown",
      "metadata": {
        "id": "hsDXZrsK4FSX"
      },
      "source": [
        "Loding the Dataset\n"
      ]
    },
    {
      "cell_type": "code",
      "metadata": {
        "colab": {
          "base_uri": "https://localhost:8080/",
          "height": 202
        },
        "id": "iCvDi3w34I5l",
        "outputId": "fa386984-8356-432b-c9a5-8cfa1e203cdf"
      },
      "source": [
        "df_red=pd.read_csv(\"/content/drive/MyDrive/winequality-red.csv\",sep=\",\")\n",
        "df_white=pd.read_csv(\"/content/drive/MyDrive/winequality-white.csv\",sep=\";\")\n",
        "df_red.head()"
      ],
      "execution_count": null,
      "outputs": [
        {
          "output_type": "execute_result",
          "data": {
            "text/html": [
              "<div>\n",
              "<style scoped>\n",
              "    .dataframe tbody tr th:only-of-type {\n",
              "        vertical-align: middle;\n",
              "    }\n",
              "\n",
              "    .dataframe tbody tr th {\n",
              "        vertical-align: top;\n",
              "    }\n",
              "\n",
              "    .dataframe thead th {\n",
              "        text-align: right;\n",
              "    }\n",
              "</style>\n",
              "<table border=\"1\" class=\"dataframe\">\n",
              "  <thead>\n",
              "    <tr style=\"text-align: right;\">\n",
              "      <th></th>\n",
              "      <th>fixed acidity</th>\n",
              "      <th>volatile acidity</th>\n",
              "      <th>citric acid</th>\n",
              "      <th>residual sugar</th>\n",
              "      <th>chlorides</th>\n",
              "      <th>free sulfur dioxide</th>\n",
              "      <th>total sulfur dioxide</th>\n",
              "      <th>density</th>\n",
              "      <th>pH</th>\n",
              "      <th>sulphates</th>\n",
              "      <th>alcohol</th>\n",
              "      <th>quality</th>\n",
              "    </tr>\n",
              "  </thead>\n",
              "  <tbody>\n",
              "    <tr>\n",
              "      <th>0</th>\n",
              "      <td>7.4</td>\n",
              "      <td>0.70</td>\n",
              "      <td>0.00</td>\n",
              "      <td>1.9</td>\n",
              "      <td>0.076</td>\n",
              "      <td>11.0</td>\n",
              "      <td>34.0</td>\n",
              "      <td>0.9978</td>\n",
              "      <td>3.51</td>\n",
              "      <td>0.56</td>\n",
              "      <td>9.4</td>\n",
              "      <td>5</td>\n",
              "    </tr>\n",
              "    <tr>\n",
              "      <th>1</th>\n",
              "      <td>7.8</td>\n",
              "      <td>0.88</td>\n",
              "      <td>0.00</td>\n",
              "      <td>2.6</td>\n",
              "      <td>0.098</td>\n",
              "      <td>25.0</td>\n",
              "      <td>67.0</td>\n",
              "      <td>0.9968</td>\n",
              "      <td>3.20</td>\n",
              "      <td>0.68</td>\n",
              "      <td>9.8</td>\n",
              "      <td>5</td>\n",
              "    </tr>\n",
              "    <tr>\n",
              "      <th>2</th>\n",
              "      <td>7.8</td>\n",
              "      <td>0.76</td>\n",
              "      <td>0.04</td>\n",
              "      <td>2.3</td>\n",
              "      <td>0.092</td>\n",
              "      <td>15.0</td>\n",
              "      <td>54.0</td>\n",
              "      <td>0.9970</td>\n",
              "      <td>3.26</td>\n",
              "      <td>0.65</td>\n",
              "      <td>9.8</td>\n",
              "      <td>5</td>\n",
              "    </tr>\n",
              "    <tr>\n",
              "      <th>3</th>\n",
              "      <td>11.2</td>\n",
              "      <td>0.28</td>\n",
              "      <td>0.56</td>\n",
              "      <td>1.9</td>\n",
              "      <td>0.075</td>\n",
              "      <td>17.0</td>\n",
              "      <td>60.0</td>\n",
              "      <td>0.9980</td>\n",
              "      <td>3.16</td>\n",
              "      <td>0.58</td>\n",
              "      <td>9.8</td>\n",
              "      <td>6</td>\n",
              "    </tr>\n",
              "    <tr>\n",
              "      <th>4</th>\n",
              "      <td>7.4</td>\n",
              "      <td>0.70</td>\n",
              "      <td>0.00</td>\n",
              "      <td>1.9</td>\n",
              "      <td>0.076</td>\n",
              "      <td>11.0</td>\n",
              "      <td>34.0</td>\n",
              "      <td>0.9978</td>\n",
              "      <td>3.51</td>\n",
              "      <td>0.56</td>\n",
              "      <td>9.4</td>\n",
              "      <td>5</td>\n",
              "    </tr>\n",
              "  </tbody>\n",
              "</table>\n",
              "</div>"
            ],
            "text/plain": [
              "   fixed acidity  volatile acidity  citric acid  ...  sulphates  alcohol  quality\n",
              "0            7.4              0.70         0.00  ...       0.56      9.4        5\n",
              "1            7.8              0.88         0.00  ...       0.68      9.8        5\n",
              "2            7.8              0.76         0.04  ...       0.65      9.8        5\n",
              "3           11.2              0.28         0.56  ...       0.58      9.8        6\n",
              "4            7.4              0.70         0.00  ...       0.56      9.4        5\n",
              "\n",
              "[5 rows x 12 columns]"
            ]
          },
          "metadata": {},
          "execution_count": 82
        }
      ]
    },
    {
      "cell_type": "code",
      "metadata": {
        "colab": {
          "base_uri": "https://localhost:8080/",
          "height": 202
        },
        "id": "o-nFGWf9fwLz",
        "outputId": "61b772d8-c741-42c0-f450-4f9954ab2969"
      },
      "source": [
        "df_white.head()"
      ],
      "execution_count": null,
      "outputs": [
        {
          "output_type": "execute_result",
          "data": {
            "text/html": [
              "<div>\n",
              "<style scoped>\n",
              "    .dataframe tbody tr th:only-of-type {\n",
              "        vertical-align: middle;\n",
              "    }\n",
              "\n",
              "    .dataframe tbody tr th {\n",
              "        vertical-align: top;\n",
              "    }\n",
              "\n",
              "    .dataframe thead th {\n",
              "        text-align: right;\n",
              "    }\n",
              "</style>\n",
              "<table border=\"1\" class=\"dataframe\">\n",
              "  <thead>\n",
              "    <tr style=\"text-align: right;\">\n",
              "      <th></th>\n",
              "      <th>fixed acidity</th>\n",
              "      <th>volatile acidity</th>\n",
              "      <th>citric acid</th>\n",
              "      <th>residual sugar</th>\n",
              "      <th>chlorides</th>\n",
              "      <th>free sulfur dioxide</th>\n",
              "      <th>total sulfur dioxide</th>\n",
              "      <th>density</th>\n",
              "      <th>pH</th>\n",
              "      <th>sulphates</th>\n",
              "      <th>alcohol</th>\n",
              "      <th>quality</th>\n",
              "    </tr>\n",
              "  </thead>\n",
              "  <tbody>\n",
              "    <tr>\n",
              "      <th>0</th>\n",
              "      <td>7.0</td>\n",
              "      <td>0.27</td>\n",
              "      <td>0.36</td>\n",
              "      <td>20.7</td>\n",
              "      <td>0.045</td>\n",
              "      <td>45.0</td>\n",
              "      <td>170.0</td>\n",
              "      <td>1.0010</td>\n",
              "      <td>3.00</td>\n",
              "      <td>0.45</td>\n",
              "      <td>8.8</td>\n",
              "      <td>6</td>\n",
              "    </tr>\n",
              "    <tr>\n",
              "      <th>1</th>\n",
              "      <td>6.3</td>\n",
              "      <td>0.30</td>\n",
              "      <td>0.34</td>\n",
              "      <td>1.6</td>\n",
              "      <td>0.049</td>\n",
              "      <td>14.0</td>\n",
              "      <td>132.0</td>\n",
              "      <td>0.9940</td>\n",
              "      <td>3.30</td>\n",
              "      <td>0.49</td>\n",
              "      <td>9.5</td>\n",
              "      <td>6</td>\n",
              "    </tr>\n",
              "    <tr>\n",
              "      <th>2</th>\n",
              "      <td>8.1</td>\n",
              "      <td>0.28</td>\n",
              "      <td>0.40</td>\n",
              "      <td>6.9</td>\n",
              "      <td>0.050</td>\n",
              "      <td>30.0</td>\n",
              "      <td>97.0</td>\n",
              "      <td>0.9951</td>\n",
              "      <td>3.26</td>\n",
              "      <td>0.44</td>\n",
              "      <td>10.1</td>\n",
              "      <td>6</td>\n",
              "    </tr>\n",
              "    <tr>\n",
              "      <th>3</th>\n",
              "      <td>7.2</td>\n",
              "      <td>0.23</td>\n",
              "      <td>0.32</td>\n",
              "      <td>8.5</td>\n",
              "      <td>0.058</td>\n",
              "      <td>47.0</td>\n",
              "      <td>186.0</td>\n",
              "      <td>0.9956</td>\n",
              "      <td>3.19</td>\n",
              "      <td>0.40</td>\n",
              "      <td>9.9</td>\n",
              "      <td>6</td>\n",
              "    </tr>\n",
              "    <tr>\n",
              "      <th>4</th>\n",
              "      <td>7.2</td>\n",
              "      <td>0.23</td>\n",
              "      <td>0.32</td>\n",
              "      <td>8.5</td>\n",
              "      <td>0.058</td>\n",
              "      <td>47.0</td>\n",
              "      <td>186.0</td>\n",
              "      <td>0.9956</td>\n",
              "      <td>3.19</td>\n",
              "      <td>0.40</td>\n",
              "      <td>9.9</td>\n",
              "      <td>6</td>\n",
              "    </tr>\n",
              "  </tbody>\n",
              "</table>\n",
              "</div>"
            ],
            "text/plain": [
              "   fixed acidity  volatile acidity  citric acid  ...  sulphates  alcohol  quality\n",
              "0            7.0              0.27         0.36  ...       0.45      8.8        6\n",
              "1            6.3              0.30         0.34  ...       0.49      9.5        6\n",
              "2            8.1              0.28         0.40  ...       0.44     10.1        6\n",
              "3            7.2              0.23         0.32  ...       0.40      9.9        6\n",
              "4            7.2              0.23         0.32  ...       0.40      9.9        6\n",
              "\n",
              "[5 rows x 12 columns]"
            ]
          },
          "metadata": {},
          "execution_count": 83
        }
      ]
    },
    {
      "cell_type": "code",
      "metadata": {
        "colab": {
          "base_uri": "https://localhost:8080/",
          "height": 311
        },
        "id": "UPx-TW5F89wP",
        "outputId": "e578474c-3a84-4201-a32d-8e7b1bc7f6af"
      },
      "source": [
        "#statistical-info\n",
        "df_red.describe()"
      ],
      "execution_count": null,
      "outputs": [
        {
          "output_type": "execute_result",
          "data": {
            "text/html": [
              "<div>\n",
              "<style scoped>\n",
              "    .dataframe tbody tr th:only-of-type {\n",
              "        vertical-align: middle;\n",
              "    }\n",
              "\n",
              "    .dataframe tbody tr th {\n",
              "        vertical-align: top;\n",
              "    }\n",
              "\n",
              "    .dataframe thead th {\n",
              "        text-align: right;\n",
              "    }\n",
              "</style>\n",
              "<table border=\"1\" class=\"dataframe\">\n",
              "  <thead>\n",
              "    <tr style=\"text-align: right;\">\n",
              "      <th></th>\n",
              "      <th>fixed acidity</th>\n",
              "      <th>volatile acidity</th>\n",
              "      <th>citric acid</th>\n",
              "      <th>residual sugar</th>\n",
              "      <th>chlorides</th>\n",
              "      <th>free sulfur dioxide</th>\n",
              "      <th>total sulfur dioxide</th>\n",
              "      <th>density</th>\n",
              "      <th>pH</th>\n",
              "      <th>sulphates</th>\n",
              "      <th>alcohol</th>\n",
              "      <th>quality</th>\n",
              "    </tr>\n",
              "  </thead>\n",
              "  <tbody>\n",
              "    <tr>\n",
              "      <th>count</th>\n",
              "      <td>1599.000000</td>\n",
              "      <td>1599.000000</td>\n",
              "      <td>1599.000000</td>\n",
              "      <td>1599.000000</td>\n",
              "      <td>1599.000000</td>\n",
              "      <td>1599.000000</td>\n",
              "      <td>1599.000000</td>\n",
              "      <td>1599.000000</td>\n",
              "      <td>1599.000000</td>\n",
              "      <td>1599.000000</td>\n",
              "      <td>1599.000000</td>\n",
              "      <td>1599.000000</td>\n",
              "    </tr>\n",
              "    <tr>\n",
              "      <th>mean</th>\n",
              "      <td>8.319637</td>\n",
              "      <td>0.527821</td>\n",
              "      <td>0.270976</td>\n",
              "      <td>2.538806</td>\n",
              "      <td>0.087467</td>\n",
              "      <td>15.874922</td>\n",
              "      <td>46.467792</td>\n",
              "      <td>0.996747</td>\n",
              "      <td>3.311113</td>\n",
              "      <td>0.658149</td>\n",
              "      <td>10.422983</td>\n",
              "      <td>5.636023</td>\n",
              "    </tr>\n",
              "    <tr>\n",
              "      <th>std</th>\n",
              "      <td>1.741096</td>\n",
              "      <td>0.179060</td>\n",
              "      <td>0.194801</td>\n",
              "      <td>1.409928</td>\n",
              "      <td>0.047065</td>\n",
              "      <td>10.460157</td>\n",
              "      <td>32.895324</td>\n",
              "      <td>0.001887</td>\n",
              "      <td>0.154386</td>\n",
              "      <td>0.169507</td>\n",
              "      <td>1.065668</td>\n",
              "      <td>0.807569</td>\n",
              "    </tr>\n",
              "    <tr>\n",
              "      <th>min</th>\n",
              "      <td>4.600000</td>\n",
              "      <td>0.120000</td>\n",
              "      <td>0.000000</td>\n",
              "      <td>0.900000</td>\n",
              "      <td>0.012000</td>\n",
              "      <td>1.000000</td>\n",
              "      <td>6.000000</td>\n",
              "      <td>0.990070</td>\n",
              "      <td>2.740000</td>\n",
              "      <td>0.330000</td>\n",
              "      <td>8.400000</td>\n",
              "      <td>3.000000</td>\n",
              "    </tr>\n",
              "    <tr>\n",
              "      <th>25%</th>\n",
              "      <td>7.100000</td>\n",
              "      <td>0.390000</td>\n",
              "      <td>0.090000</td>\n",
              "      <td>1.900000</td>\n",
              "      <td>0.070000</td>\n",
              "      <td>7.000000</td>\n",
              "      <td>22.000000</td>\n",
              "      <td>0.995600</td>\n",
              "      <td>3.210000</td>\n",
              "      <td>0.550000</td>\n",
              "      <td>9.500000</td>\n",
              "      <td>5.000000</td>\n",
              "    </tr>\n",
              "    <tr>\n",
              "      <th>50%</th>\n",
              "      <td>7.900000</td>\n",
              "      <td>0.520000</td>\n",
              "      <td>0.260000</td>\n",
              "      <td>2.200000</td>\n",
              "      <td>0.079000</td>\n",
              "      <td>14.000000</td>\n",
              "      <td>38.000000</td>\n",
              "      <td>0.996750</td>\n",
              "      <td>3.310000</td>\n",
              "      <td>0.620000</td>\n",
              "      <td>10.200000</td>\n",
              "      <td>6.000000</td>\n",
              "    </tr>\n",
              "    <tr>\n",
              "      <th>75%</th>\n",
              "      <td>9.200000</td>\n",
              "      <td>0.640000</td>\n",
              "      <td>0.420000</td>\n",
              "      <td>2.600000</td>\n",
              "      <td>0.090000</td>\n",
              "      <td>21.000000</td>\n",
              "      <td>62.000000</td>\n",
              "      <td>0.997835</td>\n",
              "      <td>3.400000</td>\n",
              "      <td>0.730000</td>\n",
              "      <td>11.100000</td>\n",
              "      <td>6.000000</td>\n",
              "    </tr>\n",
              "    <tr>\n",
              "      <th>max</th>\n",
              "      <td>15.900000</td>\n",
              "      <td>1.580000</td>\n",
              "      <td>1.000000</td>\n",
              "      <td>15.500000</td>\n",
              "      <td>0.611000</td>\n",
              "      <td>72.000000</td>\n",
              "      <td>289.000000</td>\n",
              "      <td>1.003690</td>\n",
              "      <td>4.010000</td>\n",
              "      <td>2.000000</td>\n",
              "      <td>14.900000</td>\n",
              "      <td>8.000000</td>\n",
              "    </tr>\n",
              "  </tbody>\n",
              "</table>\n",
              "</div>"
            ],
            "text/plain": [
              "       fixed acidity  volatile acidity  ...      alcohol      quality\n",
              "count    1599.000000       1599.000000  ...  1599.000000  1599.000000\n",
              "mean        8.319637          0.527821  ...    10.422983     5.636023\n",
              "std         1.741096          0.179060  ...     1.065668     0.807569\n",
              "min         4.600000          0.120000  ...     8.400000     3.000000\n",
              "25%         7.100000          0.390000  ...     9.500000     5.000000\n",
              "50%         7.900000          0.520000  ...    10.200000     6.000000\n",
              "75%         9.200000          0.640000  ...    11.100000     6.000000\n",
              "max        15.900000          1.580000  ...    14.900000     8.000000\n",
              "\n",
              "[8 rows x 12 columns]"
            ]
          },
          "metadata": {},
          "execution_count": 84
        }
      ]
    },
    {
      "cell_type": "code",
      "metadata": {
        "colab": {
          "base_uri": "https://localhost:8080/",
          "height": 311
        },
        "id": "Vb-fw2UXf8mj",
        "outputId": "da691baf-9af9-4de3-82f8-5a76412b418e"
      },
      "source": [
        "df_white.describe()"
      ],
      "execution_count": null,
      "outputs": [
        {
          "output_type": "execute_result",
          "data": {
            "text/html": [
              "<div>\n",
              "<style scoped>\n",
              "    .dataframe tbody tr th:only-of-type {\n",
              "        vertical-align: middle;\n",
              "    }\n",
              "\n",
              "    .dataframe tbody tr th {\n",
              "        vertical-align: top;\n",
              "    }\n",
              "\n",
              "    .dataframe thead th {\n",
              "        text-align: right;\n",
              "    }\n",
              "</style>\n",
              "<table border=\"1\" class=\"dataframe\">\n",
              "  <thead>\n",
              "    <tr style=\"text-align: right;\">\n",
              "      <th></th>\n",
              "      <th>fixed acidity</th>\n",
              "      <th>volatile acidity</th>\n",
              "      <th>citric acid</th>\n",
              "      <th>residual sugar</th>\n",
              "      <th>chlorides</th>\n",
              "      <th>free sulfur dioxide</th>\n",
              "      <th>total sulfur dioxide</th>\n",
              "      <th>density</th>\n",
              "      <th>pH</th>\n",
              "      <th>sulphates</th>\n",
              "      <th>alcohol</th>\n",
              "      <th>quality</th>\n",
              "    </tr>\n",
              "  </thead>\n",
              "  <tbody>\n",
              "    <tr>\n",
              "      <th>count</th>\n",
              "      <td>4898.000000</td>\n",
              "      <td>4898.000000</td>\n",
              "      <td>4898.000000</td>\n",
              "      <td>4898.000000</td>\n",
              "      <td>4898.000000</td>\n",
              "      <td>4898.000000</td>\n",
              "      <td>4898.000000</td>\n",
              "      <td>4898.000000</td>\n",
              "      <td>4898.000000</td>\n",
              "      <td>4898.000000</td>\n",
              "      <td>4898.000000</td>\n",
              "      <td>4898.000000</td>\n",
              "    </tr>\n",
              "    <tr>\n",
              "      <th>mean</th>\n",
              "      <td>6.854788</td>\n",
              "      <td>0.278241</td>\n",
              "      <td>0.334192</td>\n",
              "      <td>6.391415</td>\n",
              "      <td>0.045772</td>\n",
              "      <td>35.308085</td>\n",
              "      <td>138.360657</td>\n",
              "      <td>0.994027</td>\n",
              "      <td>3.188267</td>\n",
              "      <td>0.489847</td>\n",
              "      <td>10.514267</td>\n",
              "      <td>5.877909</td>\n",
              "    </tr>\n",
              "    <tr>\n",
              "      <th>std</th>\n",
              "      <td>0.843868</td>\n",
              "      <td>0.100795</td>\n",
              "      <td>0.121020</td>\n",
              "      <td>5.072058</td>\n",
              "      <td>0.021848</td>\n",
              "      <td>17.007137</td>\n",
              "      <td>42.498065</td>\n",
              "      <td>0.002991</td>\n",
              "      <td>0.151001</td>\n",
              "      <td>0.114126</td>\n",
              "      <td>1.230621</td>\n",
              "      <td>0.885639</td>\n",
              "    </tr>\n",
              "    <tr>\n",
              "      <th>min</th>\n",
              "      <td>3.800000</td>\n",
              "      <td>0.080000</td>\n",
              "      <td>0.000000</td>\n",
              "      <td>0.600000</td>\n",
              "      <td>0.009000</td>\n",
              "      <td>2.000000</td>\n",
              "      <td>9.000000</td>\n",
              "      <td>0.987110</td>\n",
              "      <td>2.720000</td>\n",
              "      <td>0.220000</td>\n",
              "      <td>8.000000</td>\n",
              "      <td>3.000000</td>\n",
              "    </tr>\n",
              "    <tr>\n",
              "      <th>25%</th>\n",
              "      <td>6.300000</td>\n",
              "      <td>0.210000</td>\n",
              "      <td>0.270000</td>\n",
              "      <td>1.700000</td>\n",
              "      <td>0.036000</td>\n",
              "      <td>23.000000</td>\n",
              "      <td>108.000000</td>\n",
              "      <td>0.991723</td>\n",
              "      <td>3.090000</td>\n",
              "      <td>0.410000</td>\n",
              "      <td>9.500000</td>\n",
              "      <td>5.000000</td>\n",
              "    </tr>\n",
              "    <tr>\n",
              "      <th>50%</th>\n",
              "      <td>6.800000</td>\n",
              "      <td>0.260000</td>\n",
              "      <td>0.320000</td>\n",
              "      <td>5.200000</td>\n",
              "      <td>0.043000</td>\n",
              "      <td>34.000000</td>\n",
              "      <td>134.000000</td>\n",
              "      <td>0.993740</td>\n",
              "      <td>3.180000</td>\n",
              "      <td>0.470000</td>\n",
              "      <td>10.400000</td>\n",
              "      <td>6.000000</td>\n",
              "    </tr>\n",
              "    <tr>\n",
              "      <th>75%</th>\n",
              "      <td>7.300000</td>\n",
              "      <td>0.320000</td>\n",
              "      <td>0.390000</td>\n",
              "      <td>9.900000</td>\n",
              "      <td>0.050000</td>\n",
              "      <td>46.000000</td>\n",
              "      <td>167.000000</td>\n",
              "      <td>0.996100</td>\n",
              "      <td>3.280000</td>\n",
              "      <td>0.550000</td>\n",
              "      <td>11.400000</td>\n",
              "      <td>6.000000</td>\n",
              "    </tr>\n",
              "    <tr>\n",
              "      <th>max</th>\n",
              "      <td>14.200000</td>\n",
              "      <td>1.100000</td>\n",
              "      <td>1.660000</td>\n",
              "      <td>65.800000</td>\n",
              "      <td>0.346000</td>\n",
              "      <td>289.000000</td>\n",
              "      <td>440.000000</td>\n",
              "      <td>1.038980</td>\n",
              "      <td>3.820000</td>\n",
              "      <td>1.080000</td>\n",
              "      <td>14.200000</td>\n",
              "      <td>9.000000</td>\n",
              "    </tr>\n",
              "  </tbody>\n",
              "</table>\n",
              "</div>"
            ],
            "text/plain": [
              "       fixed acidity  volatile acidity  ...      alcohol      quality\n",
              "count    4898.000000       4898.000000  ...  4898.000000  4898.000000\n",
              "mean        6.854788          0.278241  ...    10.514267     5.877909\n",
              "std         0.843868          0.100795  ...     1.230621     0.885639\n",
              "min         3.800000          0.080000  ...     8.000000     3.000000\n",
              "25%         6.300000          0.210000  ...     9.500000     5.000000\n",
              "50%         6.800000          0.260000  ...    10.400000     6.000000\n",
              "75%         7.300000          0.320000  ...    11.400000     6.000000\n",
              "max        14.200000          1.100000  ...    14.200000     9.000000\n",
              "\n",
              "[8 rows x 12 columns]"
            ]
          },
          "metadata": {},
          "execution_count": 85
        }
      ]
    },
    {
      "cell_type": "code",
      "metadata": {
        "colab": {
          "base_uri": "https://localhost:8080/"
        },
        "id": "FJ9PDXO_9JbM",
        "outputId": "ff0f905e-d900-4dce-b928-1c14da402f9e"
      },
      "source": [
        "#datatype info\n",
        "df_red.info()\n",
        "df_white.info()"
      ],
      "execution_count": null,
      "outputs": [
        {
          "output_type": "stream",
          "name": "stdout",
          "text": [
            "<class 'pandas.core.frame.DataFrame'>\n",
            "RangeIndex: 1599 entries, 0 to 1598\n",
            "Data columns (total 12 columns):\n",
            " #   Column                Non-Null Count  Dtype  \n",
            "---  ------                --------------  -----  \n",
            " 0   fixed acidity         1599 non-null   float64\n",
            " 1   volatile acidity      1599 non-null   float64\n",
            " 2   citric acid           1599 non-null   float64\n",
            " 3   residual sugar        1599 non-null   float64\n",
            " 4   chlorides             1599 non-null   float64\n",
            " 5   free sulfur dioxide   1599 non-null   float64\n",
            " 6   total sulfur dioxide  1599 non-null   float64\n",
            " 7   density               1599 non-null   float64\n",
            " 8   pH                    1599 non-null   float64\n",
            " 9   sulphates             1599 non-null   float64\n",
            " 10  alcohol               1599 non-null   float64\n",
            " 11  quality               1599 non-null   int64  \n",
            "dtypes: float64(11), int64(1)\n",
            "memory usage: 150.0 KB\n",
            "<class 'pandas.core.frame.DataFrame'>\n",
            "RangeIndex: 4898 entries, 0 to 4897\n",
            "Data columns (total 12 columns):\n",
            " #   Column                Non-Null Count  Dtype  \n",
            "---  ------                --------------  -----  \n",
            " 0   fixed acidity         4898 non-null   float64\n",
            " 1   volatile acidity      4898 non-null   float64\n",
            " 2   citric acid           4898 non-null   float64\n",
            " 3   residual sugar        4898 non-null   float64\n",
            " 4   chlorides             4898 non-null   float64\n",
            " 5   free sulfur dioxide   4898 non-null   float64\n",
            " 6   total sulfur dioxide  4898 non-null   float64\n",
            " 7   density               4898 non-null   float64\n",
            " 8   pH                    4898 non-null   float64\n",
            " 9   sulphates             4898 non-null   float64\n",
            " 10  alcohol               4898 non-null   float64\n",
            " 11  quality               4898 non-null   int64  \n",
            "dtypes: float64(11), int64(1)\n",
            "memory usage: 459.3 KB\n"
          ]
        }
      ]
    },
    {
      "cell_type": "code",
      "metadata": {
        "colab": {
          "base_uri": "https://localhost:8080/"
        },
        "id": "VliUgXyV9RrB",
        "outputId": "bee3c72a-ead0-4588-f43c-878a29b4fa2e"
      },
      "source": [
        "#check for null values\n",
        "print(df_red.isnull().sum())\n",
        "print(df_white.isnull().sum())"
      ],
      "execution_count": null,
      "outputs": [
        {
          "output_type": "stream",
          "name": "stdout",
          "text": [
            "fixed acidity           0\n",
            "volatile acidity        0\n",
            "citric acid             0\n",
            "residual sugar          0\n",
            "chlorides               0\n",
            "free sulfur dioxide     0\n",
            "total sulfur dioxide    0\n",
            "density                 0\n",
            "pH                      0\n",
            "sulphates               0\n",
            "alcohol                 0\n",
            "quality                 0\n",
            "dtype: int64\n",
            "fixed acidity           0\n",
            "volatile acidity        0\n",
            "citric acid             0\n",
            "residual sugar          0\n",
            "chlorides               0\n",
            "free sulfur dioxide     0\n",
            "total sulfur dioxide    0\n",
            "density                 0\n",
            "pH                      0\n",
            "sulphates               0\n",
            "alcohol                 0\n",
            "quality                 0\n",
            "dtype: int64\n"
          ]
        }
      ]
    },
    {
      "cell_type": "markdown",
      "metadata": {
        "id": "mUeNbGME9hLh"
      },
      "source": [
        "# LINEAR REGRESSION MODEL"
      ]
    },
    {
      "cell_type": "code",
      "metadata": {
        "id": "zTLXQcxo9ag0"
      },
      "source": [
        "from sklearn.model_selection import train_test_split\n",
        "from sklearn.linear_model import LinearRegression\n",
        "from sklearn.metrics import r2_score\n",
        "import matplotlib.pyplot as plt"
      ],
      "execution_count": null,
      "outputs": []
    },
    {
      "cell_type": "code",
      "metadata": {
        "id": "YkCdObaqESrQ"
      },
      "source": [
        "#splitting red wine dataset into train,test\n",
        "X_red = df_red.drop(columns = ['quality']).copy()\n",
        "y_red = df_red['quality']\n",
        "s=StandardScaler()\n",
        "X_red=s.fit_transform(X_red)\n",
        "# split the data in training and test dataset\n",
        "X_train_red, X_test_red, y_train_red,y_test_red = train_test_split(X_red,y_red, train_size=0.6)\n",
        "\n",
        "#splitting white wine dataset into train,test\n",
        "X_white = df_white.drop(columns = ['quality']).copy()\n",
        "s=StandardScaler()\n",
        "X_white=s.fit_transform(X_white)\n",
        "y_white = df_white['quality']\n",
        "\n",
        "# split the data in training and test dataset\n",
        "X_train_white, X_test_white, y_train_white,  y_test_white = train_test_split(X_white,y_white, train_size=0.6)\n",
        "\n",
        "\n",
        "\n"
      ],
      "execution_count": null,
      "outputs": []
    },
    {
      "cell_type": "code",
      "metadata": {
        "colab": {
          "base_uri": "https://localhost:8080/"
        },
        "id": "qAZyFw7jNBGY",
        "outputId": "918f2cdf-3250-41c1-e5fc-09217401e265"
      },
      "source": [
        "X_train_red"
      ],
      "execution_count": null,
      "outputs": [
        {
          "output_type": "execute_result",
          "data": {
            "text/plain": [
              "array([[ 0.73560737,  1.35293003, -0.77526673, ..., -0.07200549,\n",
              "        -0.10710191, -0.02157362],\n",
              "       [-0.06873526,  0.62668808, -0.0050098 , ..., -1.17348276,\n",
              "        -0.22512806, -1.24184785],\n",
              "       [-1.1603431 , -1.27271396,  1.0733499 , ...,  0.83509345,\n",
              "         0.71908117, -0.11544087],\n",
              "       ...,\n",
              "       [ 0.21852997, -0.60233677,  0.91929852, ...,  0.12237286,\n",
              "         0.66006809,  1.48030237],\n",
              "       [-0.06873526,  0.23563472, -0.05636026, ..., -0.07200549,\n",
              "        -1.34637652, -0.30317536],\n",
              "       [-0.47090657,  0.57082331, -0.0050098 , ..., -0.33117661,\n",
              "        -0.46118037, -0.58477711]])"
            ]
          },
          "metadata": {},
          "execution_count": 90
        }
      ]
    },
    {
      "cell_type": "code",
      "metadata": {
        "colab": {
          "base_uri": "https://localhost:8080/"
        },
        "id": "LEQSKvSfNE_j",
        "outputId": "a3af3be3-8f1c-4eea-eca7-818840b3f014"
      },
      "source": [
        "X_train_white"
      ],
      "execution_count": null,
      "outputs": [
        {
          "output_type": "execute_result",
          "data": {
            "text/plain": [
              "array([[-0.77601514,  0.71200485, -0.36519658, ..., -0.58460464,\n",
              "         0.87765711,  1.26160586],\n",
              "       [-0.53898711, -0.28021359,  3.35358273, ...,  0.14394366,\n",
              "        -0.61207884, -1.06808001],\n",
              "       [ 0.527639  , -0.57787912,  1.28759423, ..., -1.31315295,\n",
              "        -1.48839409,  0.394746  ],\n",
              "       ...,\n",
              "       [-0.06493106, -0.18099175,  1.20495468, ...,  0.14394366,\n",
              "        -0.34918426, -0.90554379],\n",
              "       [ 0.527639  ,  1.30733592, -0.77839428, ...,  0.077712  ,\n",
              "        -0.69971036, -0.49920323],\n",
              "       [-0.4204731 ,  1.60500145,  1.12231514, ..., -0.38590965,\n",
              "        -1.48839409,  2.02010823]])"
            ]
          },
          "metadata": {},
          "execution_count": 91
        }
      ]
    },
    {
      "cell_type": "code",
      "metadata": {
        "colab": {
          "base_uri": "https://localhost:8080/"
        },
        "id": "DBkM3UWTNOVZ",
        "outputId": "1464788f-b1dd-4204-b6ae-2320952d62ed"
      },
      "source": [
        "#Linear regression model for red wine quality\n",
        "\n",
        "reg_red = LinearRegression()\n",
        "reg_red.fit(X_train_red, y_train_red)\n",
        "train_pred = reg_red.predict(X_train_red)\n",
        "test_pred = reg_red.predict(X_test_red) \n",
        "print(test_pred)\n",
        "\n",
        "print('Training MSE:', metrics.mean_squared_error(y_train_red, train_pred))\n",
        "print('Test MSE:', metrics.mean_squared_error(y_test_red, test_pred))\n",
        "\n",
        "print(\"Coef:\\n\",reg_red.coef_)"
      ],
      "execution_count": null,
      "outputs": [
        {
          "output_type": "stream",
          "name": "stdout",
          "text": [
            "[5.38955197 5.28591557 5.35264268 6.53141973 5.82626421 6.1741163\n",
            " 6.13481735 5.23615715 5.57841508 5.6112102  6.15305305 6.07504026\n",
            " 5.55493819 6.25192792 4.93309989 6.52208766 5.09206065 5.52285295\n",
            " 5.64347259 4.9730013  5.39881319 4.92275983 6.29311803 6.60699834\n",
            " 5.61437064 6.47233748 5.09931821 6.58834484 5.30638941 6.88221188\n",
            " 6.67485447 6.6381555  5.33799667 6.17520237 5.1776656  4.92201465\n",
            " 5.39447434 6.79463021 5.41363894 6.17520237 5.10889376 5.18274295\n",
            " 5.39928504 4.64339302 5.65409416 4.86165086 6.14531696 5.25659465\n",
            " 5.56855885 5.42070545 5.60298168 5.57141227 5.7631522  5.88943898\n",
            " 6.65779788 6.08936925 5.20838414 6.10114597 6.25407047 5.86516823\n",
            " 5.82198157 5.2548957  5.39438609 5.55232697 6.55227837 6.19116326\n",
            " 5.06414079 5.48250015 5.99936723 5.15348174 5.26813182 5.3645454\n",
            " 5.46117742 5.3609755  5.00057502 5.66548272 5.32274494 5.90161482\n",
            " 5.68000128 5.10971798 6.19149008 5.74674801 5.71237018 6.27553752\n",
            " 5.38598291 5.55232697 5.32237374 5.31590782 4.95918796 5.55143726\n",
            " 6.53454649 6.43398447 6.23570134 5.32649155 6.30305634 5.11469448\n",
            " 5.77015781 5.2074153  5.89803268 5.86256662 6.34336274 5.40298701\n",
            " 5.12673521 5.16378672 6.62102929 4.20948331 5.52699609 6.60354846\n",
            " 6.35607519 5.58351809 5.33828686 5.85685272 5.90817251 6.40951542\n",
            " 5.78168052 5.19716049 5.66353083 5.55117849 5.51706423 5.99755676\n",
            " 5.08108668 4.90234996 5.43667734 5.05443755 5.31950149 5.67868675\n",
            " 5.19807054 5.06990337 5.26309835 5.48799104 5.32669044 5.73592861\n",
            " 5.79222518 5.98453317 6.24840787 5.24167263 5.05618081 5.24551523\n",
            " 5.74992945 5.31163684 6.6312958  5.25635826 5.4136179  6.22476099\n",
            " 5.51652768 5.56510082 5.42299688 5.92020361 5.11221508 5.17237553\n",
            " 6.38367782 5.6074627  4.67926708 5.78221951 6.01369771 5.37148486\n",
            " 5.06414079 6.26650652 6.05083446 5.29988513 5.11653924 5.0154892\n",
            " 5.81735296 5.85057847 5.95816408 6.23199151 5.88923066 4.8704396\n",
            " 5.3227402  5.29199837 5.46141617 4.95196646 5.53929142 6.17687899\n",
            " 5.61471599 5.75435184 4.43105    6.02015515 4.98767691 6.12988886\n",
            " 6.42519059 5.90366636 5.43610944 5.40370716 5.77060479 5.44730193\n",
            " 5.62753371 5.77060479 5.96501936 5.38718294 5.64216861 6.48830157\n",
            " 5.59901867 5.49529067 4.97162946 6.40485045 6.64984061 6.2118625\n",
            " 4.83991869 6.58794256 5.41991356 5.27045448 4.87990185 5.40128783\n",
            " 5.32013766 5.03958794 5.28212972 5.99828746 5.54616089 5.34194579\n",
            " 5.40638289 6.06268446 5.72955196 5.33698825 4.82631186 5.5230718\n",
            " 5.22950563 5.8622195  5.30628522 5.63376675 5.50519879 5.59526136\n",
            " 5.1290397  5.50550561 5.82809094 5.71293449 5.71237018 5.4086376\n",
            " 5.48250015 6.25192792 5.48780673 5.22757536 4.9792416  5.82198157\n",
            " 5.67392994 5.21578706 5.46077219 6.07208152 6.32654064 6.05521525\n",
            " 6.32326012 5.40777838 6.06765272 5.4114514  5.79140381 5.79222518\n",
            " 5.69247857 5.08428365 5.37159587 5.26678805 5.2072138  5.10135971\n",
            " 5.11382519 6.92659279 5.54426187 5.48691906 6.05267632 6.76537374\n",
            " 5.2390069  6.46838839 5.63055882 6.56627065 5.35301855 6.01948902\n",
            " 6.02662032 5.13973241 6.62343443 5.09149515 5.5451937  5.27945005\n",
            " 5.176359   5.89309594 5.97033529 6.12870306 5.14282424 5.38176865\n",
            " 5.23643489 5.98046132 5.71063748 5.03496174 5.48832406 5.24968789\n",
            " 5.19088276 4.97057753 5.02798752 6.0969964  6.63264134 6.56601432\n",
            " 4.59082734 5.82587378 5.33483076 5.59221029 5.83971971 5.56383956\n",
            " 6.33673    5.35617184 5.5127679  6.77335738 5.6426568  6.11194479\n",
            " 5.21356821 5.21877812 5.04937675 4.96945219 6.6381555  5.14110871\n",
            " 5.12673521 4.83816253 5.96954395 5.62602499 5.51250625 6.10177275\n",
            " 5.40531345 6.34320456 5.34379072 5.79869102 5.77102773 5.44178114\n",
            " 5.7543974  4.99809189 5.82288184 5.56060101 5.1272571  5.68751306\n",
            " 6.02905354 5.11488041 5.75566054 4.71199571 5.42299688 5.73218034\n",
            " 5.84363762 6.44818181 5.0759374  6.33513625 5.53592535 6.1596266\n",
            " 5.55381163 5.80751984 4.73480485 5.68319799 5.28251491 6.07324765\n",
            " 4.88880051 4.94043677 4.98533345 5.7543974  6.48836765 5.64347259\n",
            " 5.80730473 5.08674387 5.81670165 5.20375143 5.43625919 6.23570134\n",
            " 5.13800459 5.88945309 4.84393076 5.6840423  6.01412582 5.90326029\n",
            " 6.51053323 5.1374179  5.78664145 5.99836036 5.24869541 6.73358261\n",
            " 6.10114597 5.17924021 6.20938438 5.9990126  5.61330776 6.24013892\n",
            " 6.32151977 5.5230718  5.5748883  5.30944913 5.54837437 5.183913\n",
            " 5.23686058 5.09512209 5.35330679 5.39978246 5.35437715 5.90197458\n",
            " 5.03285736 5.42896443 5.91862136 4.81518682 6.55020787 6.01213477\n",
            " 5.5543804  5.28223635 5.79453945 5.08312949 6.05521525 5.20274243\n",
            " 5.75567408 5.0458181  6.18692308 5.50801152 5.16169245 6.15416616\n",
            " 4.98522642 6.3461885  5.45544641 6.56244291 5.48780673 5.44276245\n",
            " 5.70326255 5.05753689 5.21902585 5.16564299 5.88481981 5.50508752\n",
            " 5.99911794 5.41363894 5.12932806 5.6330958  5.92803724 4.97281133\n",
            " 6.06635209 5.27996251 6.24276988 5.65347525 5.68291749 5.34500697\n",
            " 5.64347259 5.33287579 5.71809237 4.95688332 6.07447647 5.90161482\n",
            " 5.1221865  6.10871314 6.23499756 5.55267019 6.14034116 5.18307025\n",
            " 5.07413741 4.97519853 6.08309106 6.07489413 5.31239879 5.2484633\n",
            " 6.39942013 4.94652967 5.75435184 5.95053828 5.90904107 5.99508255\n",
            " 5.2044483  5.22535027 6.64193843 5.8984593  6.46643683 5.14003875\n",
            " 5.56253778 5.22406924 5.81181389 6.16340893 6.58802874 5.90020456\n",
            " 6.38667193 5.25501123 6.20340283 5.20838414 5.71576497 4.73366633\n",
            " 5.61304733 6.44928436 5.30649867 4.91874708 4.88882411 5.32669044\n",
            " 5.78074704 5.82164242 5.70059583 5.31796457 5.50128448 4.96784112\n",
            " 6.29664832 5.55462098 5.32732207 5.36982972 6.23239438 5.36444704\n",
            " 5.54616089 5.63899751 6.07225619 5.64347259 5.69806263 5.67571951\n",
            " 4.93109881 6.0605117  5.13894818 6.40678379 6.05835133 6.19656604\n",
            " 5.89374335 5.39251302 5.44160786 5.73785485 6.28846342 5.45192513\n",
            " 6.41236022 5.22310329 5.61104537 6.00554502 5.82292035 5.42023478\n",
            " 4.98720218 5.2675613  5.8169585  5.63175619 5.75527201 5.71809237\n",
            " 5.2390069  4.57617387 6.08958801 6.26196705 5.51561425 5.38489642\n",
            " 5.15232966 5.88642531 5.69058943 5.05978671 5.4384231  5.176359\n",
            " 5.09967226 4.81307495 5.27770775 4.87418276 5.3232721  6.49019833\n",
            " 6.43528763 5.30638941 6.03327353 5.76496099 5.11036182 5.42738616\n",
            " 6.53078435 5.83806247 4.77330991 6.14224835 5.00057502 5.87486064\n",
            " 5.28580621 5.04199592 5.61966176 4.95021584 5.73253607 6.34119998\n",
            " 5.10509864 6.24200123 5.65333468 5.25619533 6.29664832 5.94583915\n",
            " 5.74264057 4.98720218 6.4007989  6.30592339 6.12227885 6.6381555\n",
            " 5.094032   5.20274243 5.07131263 5.72648549 5.41936447 6.05722479\n",
            " 6.25397656 5.93536843 5.47794624 6.02287611 5.96750487 5.67571951\n",
            " 5.11751728 5.6895124  5.04856631 6.13887326 4.62445772 5.95262735\n",
            " 5.37026364 5.10047332 5.57841508 6.03105019 6.38901146 5.20233305\n",
            " 5.70834347 5.3714551  5.40897741 6.33673    5.57031412 5.63474113\n",
            " 6.27576877 5.19288941 5.30944913 5.24093963 6.79463021 4.20515113\n",
            " 5.09078325 5.35700018 6.26523417 4.95976639 5.19603239 5.193589\n",
            " 5.10915553 5.02799348 5.02575535 5.71690003 5.09233794 5.08965677\n",
            " 5.31182283 5.46684243 5.01965838 5.34884513 5.57550296 5.05515311\n",
            " 5.77949819 5.27035471 5.71165007 6.29989816 5.89609954 7.69521385\n",
            " 5.88042375 5.65621661 6.50497141 5.85621829 6.23657852 5.42329738\n",
            " 5.69973463 5.03746459 5.29886726 5.74878586 6.83391303 5.41991356\n",
            " 5.94746624 6.17713383 4.40892134 4.92881207]\n",
            "Training MSE: 0.40801368295040513\n",
            "Test MSE: 0.43467620898832104\n",
            "Coef:\n",
            " [ 0.07887013 -0.21750088 -0.05345153  0.04893397 -0.06639246  0.04571965\n",
            " -0.10797383 -0.06557589 -0.07443552  0.14002727  0.29425308]\n"
          ]
        }
      ]
    },
    {
      "cell_type": "code",
      "metadata": {
        "colab": {
          "base_uri": "https://localhost:8080/"
        },
        "id": "NxaVJAn4UvNm",
        "outputId": "ffe20e14-de22-4958-fe0e-1fdf82531381"
      },
      "source": [
        "#Linear regression model for white wine quality\n",
        "\n",
        "reg_white = LinearRegression()\n",
        "reg_white.fit(X_train_white, y_train_white)\n",
        "\n",
        "train_pred = reg_white.predict(X_train_white)\n",
        "test_pred = reg_white.predict(X_test_white) \n",
        "print(test_pred)\n",
        "\n",
        "print('Training MSE:', metrics.mean_squared_error(y_train_white, train_pred))\n",
        "print('Test MSE:', metrics.mean_squared_error(y_test_white, test_pred))\n",
        "\n",
        "print(\"Coef:\\n\",reg_white.coef_)\n"
      ],
      "execution_count": null,
      "outputs": [
        {
          "output_type": "stream",
          "name": "stdout",
          "text": [
            "[6.47050423 5.55365937 5.64928917 ... 6.14237737 5.55793142 5.67883891]\n",
            "Training MSE: 0.5527146104016919\n",
            "Test MSE: 0.5846955161947223\n",
            "Coef:\n",
            " [ 0.09496798 -0.18396758  0.00426833  0.48741352  0.0034576   0.06495748\n",
            "  0.00448335 -0.60633007  0.14536162  0.08625483  0.15573999]\n"
          ]
        }
      ]
    },
    {
      "cell_type": "markdown",
      "metadata": {
        "id": "e2MWGrgwzwtn"
      },
      "source": [
        "# Stochatic Gradient Descent"
      ]
    },
    {
      "cell_type": "code",
      "metadata": {
        "id": "pd183tpiz46I"
      },
      "source": [
        "from sklearn.linear_model import SGDRegressor"
      ],
      "execution_count": null,
      "outputs": []
    },
    {
      "cell_type": "code",
      "metadata": {
        "colab": {
          "base_uri": "https://localhost:8080/"
        },
        "id": "3QjZ0gEQz7JQ",
        "outputId": "8d14fcf2-db7b-494e-e513-885150fd7123"
      },
      "source": [
        "sgd_red = SGDRegressor()\n",
        "sgd_red.fit(X_train_red, y_train_red)\n",
        "train_pred = sgd_red.predict(X_train_red)\n",
        "test_pred = sgd_red.predict(X_test_red) \n",
        "\n",
        "print('Training MSE:', metrics.mean_squared_error(y_train_red, train_pred))\n",
        "print('Test MSE:', metrics.mean_squared_error(y_test_red, test_pred))\n",
        "\n",
        "print(\"Coef:\\n\",sgd_red.coef_)"
      ],
      "execution_count": null,
      "outputs": [
        {
          "output_type": "stream",
          "name": "stdout",
          "text": [
            "Training MSE: 0.40894280911361963\n",
            "Test MSE: 0.43177498808494175\n",
            "Coef:\n",
            " [ 0.07932252 -0.20382496 -0.05043244  0.05439896 -0.0777705   0.0504669\n",
            " -0.10711036 -0.08053112 -0.06090364  0.13904089  0.27718741]\n"
          ]
        }
      ]
    },
    {
      "cell_type": "code",
      "metadata": {
        "colab": {
          "base_uri": "https://localhost:8080/"
        },
        "id": "BhROxuaF5KgD",
        "outputId": "242ce202-2ae2-47cd-be66-9ba273b8efe7"
      },
      "source": [
        "sgd_white = SGDRegressor()\n",
        "sgd_white.fit(X_train_white, y_train_white)\n",
        "train_pred = sgd_white.predict(X_train_white)\n",
        "test_pred = sgd_white.predict(X_test_white) \n",
        "\n",
        "\n",
        "print('Training MSE:', metrics.mean_squared_error(y_train_white, train_pred))\n",
        "print('Test MSE:', metrics.mean_squared_error(y_test_white, test_pred))\n",
        "\n",
        "print(\"Coef:\\n\",sgd_white.coef_)"
      ],
      "execution_count": null,
      "outputs": [
        {
          "output_type": "stream",
          "name": "stdout",
          "text": [
            "Training MSE: 0.5563488135495229\n",
            "Test MSE: 0.5802255140163389\n",
            "Coef:\n",
            " [ 0.01579287 -0.19062085 -0.00892386  0.27575086  0.00187135  0.0587714\n",
            " -0.01590793 -0.25941305  0.08426515  0.06276259  0.31082141]\n"
          ]
        }
      ]
    },
    {
      "cell_type": "markdown",
      "metadata": {
        "id": "S3k0j_BvbV-r"
      },
      "source": [
        "# Classification Algorithms"
      ]
    },
    {
      "cell_type": "code",
      "metadata": {
        "id": "_hAJVh0_fZwQ"
      },
      "source": [
        "from sklearn.preprocessing import StandardScaler,LabelEncoder\n",
        "from sklearn.linear_model import LogisticRegression\n",
        "from sklearn.metrics import confusion_matrix,classification_report,accuracy_score,precision_score,recall_score\n",
        "from sklearn.model_selection import train_test_split,cross_val_score"
      ],
      "execution_count": null,
      "outputs": []
    },
    {
      "cell_type": "code",
      "metadata": {
        "colab": {
          "base_uri": "https://localhost:8080/",
          "height": 946
        },
        "id": "p0hFz_SLbSNA",
        "outputId": "296fd26f-d17c-4026-95d7-bb82ca814486"
      },
      "source": [
        "plt.figure(figsize=(12,6))\n",
        "sns.countplot(df_red['quality'])\n",
        "plt.show()\n",
        "\n",
        "plt.figure(figsize=(12,6))\n",
        "sns.countplot(df_white['quality'])\n",
        "plt.show()"
      ],
      "execution_count": null,
      "outputs": [
        {
          "output_type": "stream",
          "name": "stderr",
          "text": [
            "/usr/local/lib/python3.7/dist-packages/seaborn/_decorators.py:43: FutureWarning: Pass the following variable as a keyword arg: x. From version 0.12, the only valid positional argument will be `data`, and passing other arguments without an explicit keyword will result in an error or misinterpretation.\n",
            "  FutureWarning\n"
          ]
        },
        {
          "output_type": "display_data",
          "data": {
            "image/png": "[encoded data removed]",
            "text/plain": [
              "<Figure size 864x432 with 1 Axes>"
            ]
          },
          "metadata": {}
        },
        {
          "output_type": "stream",
          "name": "stderr",
          "text": [
            "/usr/local/lib/python3.7/dist-packages/seaborn/_decorators.py:43: FutureWarning: Pass the following variable as a keyword arg: x. From version 0.12, the only valid positional argument will be `data`, and passing other arguments without an explicit keyword will result in an error or misinterpretation.\n",
            "  FutureWarning\n"
          ]
        },
        {
          "output_type": "display_data",
          "data": {
            "image/png": "[encoded data removed]",
            "text/plain": [
              "<Figure size 864x432 with 1 Axes>"
            ]
          },
          "metadata": {}
        }
      ]
    },
    {
      "cell_type": "code",
      "metadata": {
        "id": "k86iFQnBdk9Y"
      },
      "source": [
        "bins=(2,6.5,9)\n",
        "classes=['bad','good']\n",
        "df_red['quality']=pd.cut(df_red['quality'],bins=bins,labels=classes)"
      ],
      "execution_count": null,
      "outputs": []
    },
    {
      "cell_type": "code",
      "metadata": {
        "id": "myd5WgTTi9eR"
      },
      "source": [
        "bins=(2,6.5,9)\n",
        "classes=['bad','good']\n",
        "df_white['quality']=pd.cut(df_white['quality'],bins=bins,labels=classes)"
      ],
      "execution_count": null,
      "outputs": []
    },
    {
      "cell_type": "code",
      "metadata": {
        "id": "5llkVy8De4w1"
      },
      "source": [
        "label_quality=LabelEncoder()"
      ],
      "execution_count": null,
      "outputs": []
    },
    {
      "cell_type": "code",
      "metadata": {
        "id": "lU2WAro6fm2V"
      },
      "source": [
        "df_red['quality']=label_quality.fit_transform(df_red['quality'])"
      ],
      "execution_count": null,
      "outputs": []
    },
    {
      "cell_type": "code",
      "metadata": {
        "id": "7wXRPFOAjWP0"
      },
      "source": [
        "label_quality=LabelEncoder()"
      ],
      "execution_count": null,
      "outputs": []
    },
    {
      "cell_type": "code",
      "metadata": {
        "id": "-M2ZCHEoiwQ-"
      },
      "source": [
        "df_white['quality']=df_white.apply(lambda i: label_quality.fit_transform(df_white['quality'].astype(str)))"
      ],
      "execution_count": null,
      "outputs": []
    },
    {
      "cell_type": "code",
      "metadata": {
        "colab": {
          "base_uri": "https://localhost:8080/",
          "height": 202
        },
        "id": "FXPtoa3Iji13",
        "outputId": "7c0c0bf2-be6e-4666-888b-77fc5998375c"
      },
      "source": [
        "df_white.head()"
      ],
      "execution_count": null,
      "outputs": [
        {
          "output_type": "execute_result",
          "data": {
            "text/html": [
              "<div>\n",
              "<style scoped>\n",
              "    .dataframe tbody tr th:only-of-type {\n",
              "        vertical-align: middle;\n",
              "    }\n",
              "\n",
              "    .dataframe tbody tr th {\n",
              "        vertical-align: top;\n",
              "    }\n",
              "\n",
              "    .dataframe thead th {\n",
              "        text-align: right;\n",
              "    }\n",
              "</style>\n",
              "<table border=\"1\" class=\"dataframe\">\n",
              "  <thead>\n",
              "    <tr style=\"text-align: right;\">\n",
              "      <th></th>\n",
              "      <th>fixed acidity</th>\n",
              "      <th>volatile acidity</th>\n",
              "      <th>citric acid</th>\n",
              "      <th>residual sugar</th>\n",
              "      <th>chlorides</th>\n",
              "      <th>free sulfur dioxide</th>\n",
              "      <th>total sulfur dioxide</th>\n",
              "      <th>density</th>\n",
              "      <th>pH</th>\n",
              "      <th>sulphates</th>\n",
              "      <th>alcohol</th>\n",
              "      <th>quality</th>\n",
              "    </tr>\n",
              "  </thead>\n",
              "  <tbody>\n",
              "    <tr>\n",
              "      <th>0</th>\n",
              "      <td>7.0</td>\n",
              "      <td>0.27</td>\n",
              "      <td>0.36</td>\n",
              "      <td>20.7</td>\n",
              "      <td>0.045</td>\n",
              "      <td>45.0</td>\n",
              "      <td>170.0</td>\n",
              "      <td>1.0010</td>\n",
              "      <td>3.00</td>\n",
              "      <td>0.45</td>\n",
              "      <td>8.8</td>\n",
              "      <td>0</td>\n",
              "    </tr>\n",
              "    <tr>\n",
              "      <th>1</th>\n",
              "      <td>6.3</td>\n",
              "      <td>0.30</td>\n",
              "      <td>0.34</td>\n",
              "      <td>1.6</td>\n",
              "      <td>0.049</td>\n",
              "      <td>14.0</td>\n",
              "      <td>132.0</td>\n",
              "      <td>0.9940</td>\n",
              "      <td>3.30</td>\n",
              "      <td>0.49</td>\n",
              "      <td>9.5</td>\n",
              "      <td>0</td>\n",
              "    </tr>\n",
              "    <tr>\n",
              "      <th>2</th>\n",
              "      <td>8.1</td>\n",
              "      <td>0.28</td>\n",
              "      <td>0.40</td>\n",
              "      <td>6.9</td>\n",
              "      <td>0.050</td>\n",
              "      <td>30.0</td>\n",
              "      <td>97.0</td>\n",
              "      <td>0.9951</td>\n",
              "      <td>3.26</td>\n",
              "      <td>0.44</td>\n",
              "      <td>10.1</td>\n",
              "      <td>0</td>\n",
              "    </tr>\n",
              "    <tr>\n",
              "      <th>3</th>\n",
              "      <td>7.2</td>\n",
              "      <td>0.23</td>\n",
              "      <td>0.32</td>\n",
              "      <td>8.5</td>\n",
              "      <td>0.058</td>\n",
              "      <td>47.0</td>\n",
              "      <td>186.0</td>\n",
              "      <td>0.9956</td>\n",
              "      <td>3.19</td>\n",
              "      <td>0.40</td>\n",
              "      <td>9.9</td>\n",
              "      <td>0</td>\n",
              "    </tr>\n",
              "    <tr>\n",
              "      <th>4</th>\n",
              "      <td>7.2</td>\n",
              "      <td>0.23</td>\n",
              "      <td>0.32</td>\n",
              "      <td>8.5</td>\n",
              "      <td>0.058</td>\n",
              "      <td>47.0</td>\n",
              "      <td>186.0</td>\n",
              "      <td>0.9956</td>\n",
              "      <td>3.19</td>\n",
              "      <td>0.40</td>\n",
              "      <td>9.9</td>\n",
              "      <td>0</td>\n",
              "    </tr>\n",
              "  </tbody>\n",
              "</table>\n",
              "</div>"
            ],
            "text/plain": [
              "   fixed acidity  volatile acidity  citric acid  ...  sulphates  alcohol  quality\n",
              "0            7.0              0.27         0.36  ...       0.45      8.8        0\n",
              "1            6.3              0.30         0.34  ...       0.49      9.5        0\n",
              "2            8.1              0.28         0.40  ...       0.44     10.1        0\n",
              "3            7.2              0.23         0.32  ...       0.40      9.9        0\n",
              "4            7.2              0.23         0.32  ...       0.40      9.9        0\n",
              "\n",
              "[5 rows x 12 columns]"
            ]
          },
          "metadata": {},
          "execution_count": 105
        }
      ]
    },
    {
      "cell_type": "code",
      "metadata": {
        "colab": {
          "base_uri": "https://localhost:8080/"
        },
        "id": "mWfNGp8of6xb",
        "outputId": "1d31d907-8b14-48e8-9d49-93ec1ea139fc"
      },
      "source": [
        "df_red['quality'].value_counts()"
      ],
      "execution_count": null,
      "outputs": [
        {
          "output_type": "execute_result",
          "data": {
            "text/plain": [
              "0    1382\n",
              "1     217\n",
              "Name: quality, dtype: int64"
            ]
          },
          "metadata": {},
          "execution_count": 106
        }
      ]
    },
    {
      "cell_type": "code",
      "metadata": {
        "colab": {
          "base_uri": "https://localhost:8080/"
        },
        "id": "KTmOHvTCmQ-R",
        "outputId": "5a82873e-f309-4803-fd3b-e5ba4a0e7597"
      },
      "source": [
        "df_white['quality'].value_counts()"
      ],
      "execution_count": null,
      "outputs": [
        {
          "output_type": "execute_result",
          "data": {
            "text/plain": [
              "0    3838\n",
              "1    1060\n",
              "Name: quality, dtype: int64"
            ]
          },
          "metadata": {},
          "execution_count": 107
        }
      ]
    },
    {
      "cell_type": "code",
      "metadata": {
        "colab": {
          "base_uri": "https://localhost:8080/",
          "height": 467
        },
        "id": "LTmhPcILgN8y",
        "outputId": "6e70077a-3695-4218-def0-bdf7363049fa"
      },
      "source": [
        "plt.figure(figsize=(5,5))\n",
        "sns.set(font_scale=3)\n",
        "plt.title(\"Quality vs Count\",fontsize=10)\n",
        "sns.countplot(df_red['quality'])\n",
        "\n"
      ],
      "execution_count": null,
      "outputs": [
        {
          "output_type": "stream",
          "name": "stderr",
          "text": [
            "/usr/local/lib/python3.7/dist-packages/seaborn/_decorators.py:43: FutureWarning: Pass the following variable as a keyword arg: x. From version 0.12, the only valid positional argument will be `data`, and passing other arguments without an explicit keyword will result in an error or misinterpretation.\n",
            "  FutureWarning\n"
          ]
        },
        {
          "output_type": "execute_result",
          "data": {
            "text/plain": [
              "<matplotlib.axes._subplots.AxesSubplot at 0x7f1204b52750>"
            ]
          },
          "metadata": {},
          "execution_count": 108
        },
        {
          "output_type": "display_data",
          "data": {
            "image/png": "[encoded data removed]",
            "text/plain": [
              "<Figure size 360x360 with 1 Axes>"
            ]
          },
          "metadata": {}
        }
      ]
    },
    {
      "cell_type": "code",
      "metadata": {
        "colab": {
          "base_uri": "https://localhost:8080/",
          "height": 410
        },
        "id": "5po0REH6H7Xe",
        "outputId": "ca538d82-388a-42f5-d11f-dcafc4f6dcc8"
      },
      "source": [
        "sns.countplot(df_white['quality'])"
      ],
      "execution_count": null,
      "outputs": [
        {
          "output_type": "stream",
          "name": "stderr",
          "text": [
            "/usr/local/lib/python3.7/dist-packages/seaborn/_decorators.py:43: FutureWarning: Pass the following variable as a keyword arg: x. From version 0.12, the only valid positional argument will be `data`, and passing other arguments without an explicit keyword will result in an error or misinterpretation.\n",
            "  FutureWarning\n"
          ]
        },
        {
          "output_type": "execute_result",
          "data": {
            "text/plain": [
              "<matplotlib.axes._subplots.AxesSubplot at 0x7f12038702d0>"
            ]
          },
          "metadata": {},
          "execution_count": 109
        },
        {
          "output_type": "display_data",
          "data": {
            "image/png": "[encoded data removed]",
            "text/plain": [
              "<Figure size 432x288 with 1 Axes>"
            ]
          },
          "metadata": {}
        }
      ]
    },
    {
      "cell_type": "code",
      "metadata": {
        "colab": {
          "base_uri": "https://localhost:8080/",
          "height": 202
        },
        "id": "M1ksWZyUgt2T",
        "outputId": "4d820489-6d5a-433c-a475-7f7edb212270"
      },
      "source": [
        "df_red.head()"
      ],
      "execution_count": null,
      "outputs": [
        {
          "output_type": "execute_result",
          "data": {
            "text/html": [
              "<div>\n",
              "<style scoped>\n",
              "    .dataframe tbody tr th:only-of-type {\n",
              "        vertical-align: middle;\n",
              "    }\n",
              "\n",
              "    .dataframe tbody tr th {\n",
              "        vertical-align: top;\n",
              "    }\n",
              "\n",
              "    .dataframe thead th {\n",
              "        text-align: right;\n",
              "    }\n",
              "</style>\n",
              "<table border=\"1\" class=\"dataframe\">\n",
              "  <thead>\n",
              "    <tr style=\"text-align: right;\">\n",
              "      <th></th>\n",
              "      <th>fixed acidity</th>\n",
              "      <th>volatile acidity</th>\n",
              "      <th>citric acid</th>\n",
              "      <th>residual sugar</th>\n",
              "      <th>chlorides</th>\n",
              "      <th>free sulfur dioxide</th>\n",
              "      <th>total sulfur dioxide</th>\n",
              "      <th>density</th>\n",
              "      <th>pH</th>\n",
              "      <th>sulphates</th>\n",
              "      <th>alcohol</th>\n",
              "      <th>quality</th>\n",
              "    </tr>\n",
              "  </thead>\n",
              "  <tbody>\n",
              "    <tr>\n",
              "      <th>0</th>\n",
              "      <td>7.4</td>\n",
              "      <td>0.70</td>\n",
              "      <td>0.00</td>\n",
              "      <td>1.9</td>\n",
              "      <td>0.076</td>\n",
              "      <td>11.0</td>\n",
              "      <td>34.0</td>\n",
              "      <td>0.9978</td>\n",
              "      <td>3.51</td>\n",
              "      <td>0.56</td>\n",
              "      <td>9.4</td>\n",
              "      <td>0</td>\n",
              "    </tr>\n",
              "    <tr>\n",
              "      <th>1</th>\n",
              "      <td>7.8</td>\n",
              "      <td>0.88</td>\n",
              "      <td>0.00</td>\n",
              "      <td>2.6</td>\n",
              "      <td>0.098</td>\n",
              "      <td>25.0</td>\n",
              "      <td>67.0</td>\n",
              "      <td>0.9968</td>\n",
              "      <td>3.20</td>\n",
              "      <td>0.68</td>\n",
              "      <td>9.8</td>\n",
              "      <td>0</td>\n",
              "    </tr>\n",
              "    <tr>\n",
              "      <th>2</th>\n",
              "      <td>7.8</td>\n",
              "      <td>0.76</td>\n",
              "      <td>0.04</td>\n",
              "      <td>2.3</td>\n",
              "      <td>0.092</td>\n",
              "      <td>15.0</td>\n",
              "      <td>54.0</td>\n",
              "      <td>0.9970</td>\n",
              "      <td>3.26</td>\n",
              "      <td>0.65</td>\n",
              "      <td>9.8</td>\n",
              "      <td>0</td>\n",
              "    </tr>\n",
              "    <tr>\n",
              "      <th>3</th>\n",
              "      <td>11.2</td>\n",
              "      <td>0.28</td>\n",
              "      <td>0.56</td>\n",
              "      <td>1.9</td>\n",
              "      <td>0.075</td>\n",
              "      <td>17.0</td>\n",
              "      <td>60.0</td>\n",
              "      <td>0.9980</td>\n",
              "      <td>3.16</td>\n",
              "      <td>0.58</td>\n",
              "      <td>9.8</td>\n",
              "      <td>0</td>\n",
              "    </tr>\n",
              "    <tr>\n",
              "      <th>4</th>\n",
              "      <td>7.4</td>\n",
              "      <td>0.70</td>\n",
              "      <td>0.00</td>\n",
              "      <td>1.9</td>\n",
              "      <td>0.076</td>\n",
              "      <td>11.0</td>\n",
              "      <td>34.0</td>\n",
              "      <td>0.9978</td>\n",
              "      <td>3.51</td>\n",
              "      <td>0.56</td>\n",
              "      <td>9.4</td>\n",
              "      <td>0</td>\n",
              "    </tr>\n",
              "  </tbody>\n",
              "</table>\n",
              "</div>"
            ],
            "text/plain": [
              "   fixed acidity  volatile acidity  citric acid  ...  sulphates  alcohol  quality\n",
              "0            7.4              0.70         0.00  ...       0.56      9.4        0\n",
              "1            7.8              0.88         0.00  ...       0.68      9.8        0\n",
              "2            7.8              0.76         0.04  ...       0.65      9.8        0\n",
              "3           11.2              0.28         0.56  ...       0.58      9.8        0\n",
              "4            7.4              0.70         0.00  ...       0.56      9.4        0\n",
              "\n",
              "[5 rows x 12 columns]"
            ]
          },
          "metadata": {},
          "execution_count": 110
        }
      ]
    },
    {
      "cell_type": "code",
      "metadata": {
        "colab": {
          "base_uri": "https://localhost:8080/",
          "height": 202
        },
        "id": "tuvdlP1VmWen",
        "outputId": "ff2a6df4-c0fd-49aa-c7de-a151da29ad08"
      },
      "source": [
        "df_white.head()"
      ],
      "execution_count": null,
      "outputs": [
        {
          "output_type": "execute_result",
          "data": {
            "text/html": [
              "<div>\n",
              "<style scoped>\n",
              "    .dataframe tbody tr th:only-of-type {\n",
              "        vertical-align: middle;\n",
              "    }\n",
              "\n",
              "    .dataframe tbody tr th {\n",
              "        vertical-align: top;\n",
              "    }\n",
              "\n",
              "    .dataframe thead th {\n",
              "        text-align: right;\n",
              "    }\n",
              "</style>\n",
              "<table border=\"1\" class=\"dataframe\">\n",
              "  <thead>\n",
              "    <tr style=\"text-align: right;\">\n",
              "      <th></th>\n",
              "      <th>fixed acidity</th>\n",
              "      <th>volatile acidity</th>\n",
              "      <th>citric acid</th>\n",
              "      <th>residual sugar</th>\n",
              "      <th>chlorides</th>\n",
              "      <th>free sulfur dioxide</th>\n",
              "      <th>total sulfur dioxide</th>\n",
              "      <th>density</th>\n",
              "      <th>pH</th>\n",
              "      <th>sulphates</th>\n",
              "      <th>alcohol</th>\n",
              "      <th>quality</th>\n",
              "    </tr>\n",
              "  </thead>\n",
              "  <tbody>\n",
              "    <tr>\n",
              "      <th>0</th>\n",
              "      <td>7.0</td>\n",
              "      <td>0.27</td>\n",
              "      <td>0.36</td>\n",
              "      <td>20.7</td>\n",
              "      <td>0.045</td>\n",
              "      <td>45.0</td>\n",
              "      <td>170.0</td>\n",
              "      <td>1.0010</td>\n",
              "      <td>3.00</td>\n",
              "      <td>0.45</td>\n",
              "      <td>8.8</td>\n",
              "      <td>0</td>\n",
              "    </tr>\n",
              "    <tr>\n",
              "      <th>1</th>\n",
              "      <td>6.3</td>\n",
              "      <td>0.30</td>\n",
              "      <td>0.34</td>\n",
              "      <td>1.6</td>\n",
              "      <td>0.049</td>\n",
              "      <td>14.0</td>\n",
              "      <td>132.0</td>\n",
              "      <td>0.9940</td>\n",
              "      <td>3.30</td>\n",
              "      <td>0.49</td>\n",
              "      <td>9.5</td>\n",
              "      <td>0</td>\n",
              "    </tr>\n",
              "    <tr>\n",
              "      <th>2</th>\n",
              "      <td>8.1</td>\n",
              "      <td>0.28</td>\n",
              "      <td>0.40</td>\n",
              "      <td>6.9</td>\n",
              "      <td>0.050</td>\n",
              "      <td>30.0</td>\n",
              "      <td>97.0</td>\n",
              "      <td>0.9951</td>\n",
              "      <td>3.26</td>\n",
              "      <td>0.44</td>\n",
              "      <td>10.1</td>\n",
              "      <td>0</td>\n",
              "    </tr>\n",
              "    <tr>\n",
              "      <th>3</th>\n",
              "      <td>7.2</td>\n",
              "      <td>0.23</td>\n",
              "      <td>0.32</td>\n",
              "      <td>8.5</td>\n",
              "      <td>0.058</td>\n",
              "      <td>47.0</td>\n",
              "      <td>186.0</td>\n",
              "      <td>0.9956</td>\n",
              "      <td>3.19</td>\n",
              "      <td>0.40</td>\n",
              "      <td>9.9</td>\n",
              "      <td>0</td>\n",
              "    </tr>\n",
              "    <tr>\n",
              "      <th>4</th>\n",
              "      <td>7.2</td>\n",
              "      <td>0.23</td>\n",
              "      <td>0.32</td>\n",
              "      <td>8.5</td>\n",
              "      <td>0.058</td>\n",
              "      <td>47.0</td>\n",
              "      <td>186.0</td>\n",
              "      <td>0.9956</td>\n",
              "      <td>3.19</td>\n",
              "      <td>0.40</td>\n",
              "      <td>9.9</td>\n",
              "      <td>0</td>\n",
              "    </tr>\n",
              "  </tbody>\n",
              "</table>\n",
              "</div>"
            ],
            "text/plain": [
              "   fixed acidity  volatile acidity  citric acid  ...  sulphates  alcohol  quality\n",
              "0            7.0              0.27         0.36  ...       0.45      8.8        0\n",
              "1            6.3              0.30         0.34  ...       0.49      9.5        0\n",
              "2            8.1              0.28         0.40  ...       0.44     10.1        0\n",
              "3            7.2              0.23         0.32  ...       0.40      9.9        0\n",
              "4            7.2              0.23         0.32  ...       0.40      9.9        0\n",
              "\n",
              "[5 rows x 12 columns]"
            ]
          },
          "metadata": {},
          "execution_count": 111
        }
      ]
    },
    {
      "cell_type": "code",
      "metadata": {
        "id": "1voXim3VhKQp"
      },
      "source": [
        "#splitting red wine dataset into train,test\n",
        "X_red = df_red.drop(columns = ['quality']).copy()\n",
        "y_red = df_red['quality']\n",
        "\n",
        "# split the data in training and test dataset\n",
        "X_train_red, X_rem, y_train_red,y_rem = train_test_split(X_red,y_red, train_size=0.6)\n",
        "\n",
        "X_valid_red, X_test_red, y_valid_red,y_test_red = train_test_split(X_rem,y_rem, test_size=0.5)\n",
        "\n",
        "#splitting white wine dataset into train,test\n",
        "X_white = df_white.drop(columns = ['quality']).copy()\n",
        "y_white = df_white['quality']\n",
        "\n",
        "# split the data in training and test dataset\n",
        "X_train_white, X_rem, y_train_white,  y_rem = train_test_split(X_white,y_white, train_size=0.6)\n",
        "\n",
        "X_valid_white, X_test_white, y_valid_white,  y_test_white = train_test_split(X_rem,y_rem, test_size=0.5)\n",
        "\n",
        "#normalization\n",
        "s=StandardScaler()\n",
        "X_train_red=s.fit_transform(X_train_red)\n",
        "X_valid_red=s.fit_transform(X_valid_red)\n",
        "X_test_red=s.fit_transform(X_test_red)\n",
        "\n",
        "X_train_white=s.fit_transform(X_train_white)\n",
        "X_valid_white=s.fit_transform(X_valid_white)\n",
        "X_test_white=s.fit_transform(X_test_white)\n"
      ],
      "execution_count": null,
      "outputs": []
    },
    {
      "cell_type": "markdown",
      "metadata": {
        "id": "sczVfZsIZlLV"
      },
      "source": [
        "## Logistic Regression"
      ]
    },
    {
      "cell_type": "code",
      "metadata": {
        "id": "wi5poUOcYAfb"
      },
      "source": [
        "#red wine\n",
        "param = [    \n",
        "    {'max_iter' : [1000,2000,3000],\n",
        "    'tol' : [0.1, 0.01, 0.001, 0.0001, 0.00001],\n",
        "    }\n",
        "]\n",
        "clf = GridSearchCV(LogisticRegression(), param_grid = param, n_jobs=-1)\n",
        "\n",
        "best_clf = clf.fit(X_train_red,y_train_red)"
      ],
      "execution_count": null,
      "outputs": []
    },
    {
      "cell_type": "code",
      "metadata": {
        "colab": {
          "base_uri": "https://localhost:8080/"
        },
        "id": "T2PBshbZYnLT",
        "outputId": "6e9906c6-fe01-4293-b9a4-b4b7a13cd411"
      },
      "source": [
        "best_clf.best_estimator_"
      ],
      "execution_count": null,
      "outputs": [
        {
          "output_type": "execute_result",
          "data": {
            "text/plain": [
              "LogisticRegression(C=1.0, class_weight=None, dual=False, fit_intercept=True,\n",
              "                   intercept_scaling=1, l1_ratio=None, max_iter=1000,\n",
              "                   multi_class='auto', n_jobs=None, penalty='l2',\n",
              "                   random_state=None, solver='lbfgs', tol=0.1, verbose=0,\n",
              "                   warm_start=False)"
            ]
          },
          "metadata": {},
          "execution_count": 114
        }
      ]
    },
    {
      "cell_type": "code",
      "metadata": {
        "id": "1LPDT4uruX5h"
      },
      "source": [
        "LR_red=LogisticRegression(max_iter=3000,tol=0.1).fit(X_train_red,y_train_red)"
      ],
      "execution_count": null,
      "outputs": []
    },
    {
      "cell_type": "code",
      "metadata": {
        "id": "aTQV3FX7Z8fz"
      },
      "source": [
        "#white wine\n",
        "param = [    \n",
        "    {'max_iter' : [1000,2000,3000],\n",
        "    'tol' : [0.1, 0.01, 0.001, 0.0001, 0.00001],\n",
        "    }\n",
        "]\n",
        "clf = GridSearchCV(LogisticRegression(), param_grid = param, n_jobs=-1)\n",
        "\n",
        "best_clf = clf.fit(X_train_white,y_train_white)"
      ],
      "execution_count": null,
      "outputs": []
    },
    {
      "cell_type": "code",
      "metadata": {
        "colab": {
          "base_uri": "https://localhost:8080/"
        },
        "id": "UHmNumylaBF8",
        "outputId": "f3b5e80a-ce15-4964-fd1b-8f72dc26c014"
      },
      "source": [
        "best_clf.best_estimator_"
      ],
      "execution_count": null,
      "outputs": [
        {
          "output_type": "execute_result",
          "data": {
            "text/plain": [
              "LogisticRegression(C=1.0, class_weight=None, dual=False, fit_intercept=True,\n",
              "                   intercept_scaling=1, l1_ratio=None, max_iter=1000,\n",
              "                   multi_class='auto', n_jobs=None, penalty='l2',\n",
              "                   random_state=None, solver='lbfgs', tol=0.1, verbose=0,\n",
              "                   warm_start=False)"
            ]
          },
          "metadata": {},
          "execution_count": 117
        }
      ]
    },
    {
      "cell_type": "code",
      "metadata": {
        "id": "neoZacSZulqq"
      },
      "source": [
        "LR_white=LogisticRegression(max_iter=1000,tol=0.1).fit(X_train_white,y_train_white)"
      ],
      "execution_count": null,
      "outputs": []
    },
    {
      "cell_type": "code",
      "metadata": {
        "colab": {
          "base_uri": "https://localhost:8080/"
        },
        "id": "3eXnTiJjno2S",
        "outputId": "a2c913c4-9029-4100-9c6e-87b65c6a8f71"
      },
      "source": [
        "pred_red=LR_red.predict(X_test_red)\n",
        "pred_white=LR_white.predict(X_test_white)\n",
        "cm_red=confusion_matrix(y_test_red,pred_red)\n",
        "cm_white=confusion_matrix(y_test_white,pred_white)\n",
        "print(\"Confusion matrix for red wine \\n\",cm_red)\n",
        "print(\"Confusion matrix for white wine \\n\",cm_white)\n",
        "\n",
        "\n",
        "#class-wise accuracy,precision,recall for red wine\n",
        "print(\"\\n\\nRED WINE\")\n",
        "print(\"Class-wise precision \\n\",precision_score(y_test_red,pred_red, average=None, zero_division=1))\n",
        "print(\"Class-wise recall \\n \",recall_score(y_test_red,pred_red, average=None, zero_division=1))\n",
        "print(\"Class-wise Accuracy \\n\",(cm_red.astype('float') / cm_red.sum(axis=1)).diagonal())\n",
        "\n",
        "#class-wise accuracy,precision,recall for white wine\n",
        "print(\"\\n\\nWHITE WINE\")\n",
        "print(\"Class-wise precision \\n\",precision_score(y_test_white,pred_white, average=None, zero_division=1))\n",
        "print(\"Class-wise recall \\n \",recall_score(y_test_white,pred_white, average=None, zero_division=1))\n",
        "print(\"Class-wise Accuracy \\n\",(cm_white.astype('float') / cm_white.sum(axis=1)).diagonal())\n",
        "\n",
        "pred_red_train=LR_red.predict(X_train_red)\n",
        "acc_red_train=accuracy_score(y_train_red,pred_red_train)\n",
        "print(\"\\n\\nTraining Accuracy for red wine: \",acc_red_train*100)\n",
        "\n",
        "acc_red=accuracy_score(y_test_red,pred_red)\n",
        "print(\"Testing Accuracy for red wine: \",acc_red*100)\n",
        "\n",
        "pred_white_train=LR_white.predict(X_train_white)\n",
        "acc_white_train=accuracy_score(y_train_white,pred_white_train)\n",
        "print(\"Training Accuracy for white wine: \",acc_white_train*100)\n",
        "\n",
        "acc_white=accuracy_score(y_test_white,pred_white)\n",
        "print(\"Testing Accuracy for white wine: \",acc_white*100)"
      ],
      "execution_count": null,
      "outputs": [
        {
          "output_type": "stream",
          "name": "stdout",
          "text": [
            "Confusion matrix for red wine \n",
            " [[275   1]\n",
            " [ 44   0]]\n",
            "Confusion matrix for white wine \n",
            " [[779   0]\n",
            " [201   0]]\n",
            "\n",
            "\n",
            "RED WINE\n",
            "Class-wise precision \n",
            " [0.86206897 0.        ]\n",
            "Class-wise recall \n",
            "  [0.99637681 0.        ]\n",
            "Class-wise Accuracy \n",
            " [0.99637681 0.        ]\n",
            "\n",
            "\n",
            "WHITE WINE\n",
            "Class-wise precision \n",
            " [0.79489796 1.        ]\n",
            "Class-wise recall \n",
            "  [1. 0.]\n",
            "Class-wise Accuracy \n",
            " [1. 0.]\n",
            "\n",
            "\n",
            "Training Accuracy for red wine:  85.61001042752866\n",
            "Testing Accuracy for red wine:  85.9375\n",
            "Training Accuracy for white wine:  77.97821647379169\n",
            "Testing Accuracy for white wine:  79.48979591836735\n"
          ]
        }
      ]
    },
    {
      "cell_type": "code",
      "metadata": {
        "colab": {
          "base_uri": "https://localhost:8080/"
        },
        "id": "V61mvlRSXt4k",
        "outputId": "66cf3bfc-5b4f-4b48-c54a-fe4d9828ea6b"
      },
      "source": [
        "#For red wine\n",
        "\n",
        "k = 5\n",
        "kf = KFold(n_splits=k, random_state=None,shuffle=False) \n",
        "acc_score = []\n",
        "i=1\n",
        "for train_index , test_index in kf.split(X_red):\n",
        "    X_train , X_test = X_red.iloc[train_index],X_red.iloc[test_index]\n",
        "    y_train , y_test = y_red[train_index] , y_red[test_index]\n",
        "    \n",
        "    red =  LogisticRegression(tol=0.1, max_iter=1000).fit(X_train, y_train.ravel())\n",
        "    y_pred=red.predict(X_test)\n",
        "    acc_score.append(red.score(X_test, y_test)*100)\n",
        "  \n",
        "    i=i+1 \n",
        "avg_acc_score = sum(acc_score)/k\n",
        "\n",
        "print('accuracy of each fold - {}'.format(acc_score))\n",
        "print('Avg accuracy : {}'.format(avg_acc_score))"
      ],
      "execution_count": null,
      "outputs": [
        {
          "output_type": "stream",
          "name": "stdout",
          "text": [
            "accuracy of each fold - [91.875, 83.75, 89.6875, 81.875, 92.78996865203762]\n",
            "Avg accuracy : 87.99549373040752\n"
          ]
        }
      ]
    },
    {
      "cell_type": "code",
      "metadata": {
        "colab": {
          "base_uri": "https://localhost:8080/"
        },
        "id": "X4ZOtH1XYSjT",
        "outputId": "be6962ac-3792-4943-fcb7-b1348666d42c"
      },
      "source": [
        "#For white wine\n",
        "\n",
        "k = 5\n",
        "kf = KFold(n_splits=k, random_state=None,shuffle=False) \n",
        "acc_score = []\n",
        "i=1\n",
        "for train_index , test_index in kf.split(X_white):\n",
        "    X_train , X_test = X_white.iloc[train_index],X_white.iloc[test_index]\n",
        "    y_train , y_test = y_white[train_index] , y_white[test_index]\n",
        "     \n",
        "    white = LogisticRegression(tol=0.1, max_iter=1000).fit(X_train, y_train.ravel())\n",
        "    y_pred=white.predict(X_test)\n",
        "    acc_score.append(white.score(X_test, y_test)*100)\n",
        "    i=i+1 \n",
        "avg_acc_score = sum(acc_score)/k\n",
        "\n",
        "print('accuracy of each fold - {}'.format(acc_score))\n",
        "print('Avg accuracy : {}'.format(avg_acc_score))"
      ],
      "execution_count": null,
      "outputs": [
        {
          "output_type": "stream",
          "name": "stdout",
          "text": [
            "accuracy of each fold - [79.18367346938776, 80.20408163265306, 83.26530612244898, 78.14096016343207, 77.732379979571]\n",
            "Avg accuracy : 79.70528027349857\n"
          ]
        }
      ]
    },
    {
      "cell_type": "markdown",
      "metadata": {
        "id": "x7ExoTZeQW-L"
      },
      "source": [
        "\n",
        "\n",
        "```\n",
        "# This is formatted as code\n",
        "```\n",
        "\n",
        "## Perceptron Model"
      ]
    },
    {
      "cell_type": "code",
      "metadata": {
        "id": "nhvJzVr6lPeC"
      },
      "source": [
        "from sklearn.utils import shuffle\n",
        "import random\n",
        "import math"
      ],
      "execution_count": null,
      "outputs": []
    },
    {
      "cell_type": "markdown",
      "metadata": {
        "id": "rZWNB3_WN8Do"
      },
      "source": [
        "### Perceptron with threshold activation function"
      ]
    },
    {
      "cell_type": "code",
      "metadata": {
        "id": "nJytDVFDQVxd"
      },
      "source": [
        "def perceptron(X,y,learning_rate):\n",
        "  \n",
        "  X_arr = X\n",
        "  Y_arr = y\n",
        "\n",
        "  X_arr=np.insert(X_arr,0,1,axis=1)\n",
        "  X_arr=np.array(X_arr)\n",
        "  Y_arr=np.array(y)\n",
        "\n",
        "  X_arr, Y_arr = shuffle(X_arr, Y_arr)\n",
        "  l=learning_rate\n",
        " \n",
        "  w=[]\n",
        "  for i in range(X_arr.shape[1]):\n",
        "    w.append(random.uniform(-0.3,0.3))\n",
        "\n",
        "  w= np.array(w)  \n",
        "  visited_index=[]\n",
        "  index = random.randint(0, len(X_arr)-1)\n",
        "  epoch=1\n",
        "  converged=True\n",
        "  err_in=0\n",
        "  err=0\n",
        "  while converged:\n",
        "    d=0\n",
        "    X_arr, Y_arr = shuffle(X_arr, Y_arr)\n",
        "    h_x=np.dot(X_arr[index],w)\n",
        "\n",
        "    if(h_x>0):\n",
        "        d=1\n",
        "    else:\n",
        "        d=0\n",
        "\n",
        "    err_in= err_in+(1/2)*((d-Y_arr[index])**2)\n",
        "    for i in range(len(w)):\n",
        "         w[i]=w[i]+(l*(Y_arr[index]-d)*X_arr[index][i])\n",
        "    \n",
        "    index = random.randint(0, len(X_arr)-1)\n",
        "    visited_index.append(index)\n",
        "    \n",
        "    if (len(set(visited_index))==len(X_arr)):\n",
        "      pred=predict(X,y,w)\n",
        "      performance=accuracy_score(y,pred)  \n",
        "      h_x=np.dot(X_arr[index],w)\n",
        "     \n",
        "      if(h_x>0):\n",
        "            d=1\n",
        "      else:\n",
        "            d=0 \n",
        "      err= err+(1/2)*((d-Y_arr[index])**2)\n",
        "     \n",
        "      if(abs(err-err_in)<0.001 or performance*100>=75):\n",
        "        print(\"Successfully converged:\")\n",
        "        print(\"Accuracy :\",performance*100)\n",
        "        converged=False\n",
        "      else:\n",
        "        visited_index=[]  \n",
        "    epoch=epoch+1\n",
        "  return w"
      ],
      "execution_count": null,
      "outputs": []
    },
    {
      "cell_type": "code",
      "metadata": {
        "id": "n-PmCUrkmL9z"
      },
      "source": [
        "def predict(X,y,w):\n",
        "\n",
        "  X = X\n",
        "  Y = y\n",
        "\n",
        "  X=np.insert(X,0,1,axis=1)\n",
        "  X_arr=np.array(X)\n",
        "  Y_arr=np.array(y)\n",
        "  Y_predict=np.zeros(len(Y_arr))\n",
        "  \n",
        "  h=np.dot(X_arr,w)\n",
        "  d=[]\n",
        "  for k in range(len(h)):\n",
        "         if(h[k]>0):\n",
        "            d.append(1)\n",
        "\n",
        "         else:\n",
        "            d.append(0)   \n",
        "  d=np.array(d)\n",
        "  for i in range(len(d)):\n",
        "     if(d[i]==0):\n",
        "       Y_predict[i]=0\n",
        "\n",
        "     else:\n",
        "       Y_predict[i]=1  \n",
        "  test_acc=accuracy_score(Y_arr,Y_predict)  \n",
        "  \n",
        "  return Y_predict"
      ],
      "execution_count": null,
      "outputs": []
    },
    {
      "cell_type": "markdown",
      "metadata": {
        "id": "3A6BY-Ulr4jg"
      },
      "source": [
        "For Red wine"
      ]
    },
    {
      "cell_type": "code",
      "metadata": {
        "colab": {
          "base_uri": "https://localhost:8080/"
        },
        "id": "kl3oB7XHmfrS",
        "outputId": "134d8b2e-879e-4d96-a8f3-a88f5db525f0"
      },
      "source": [
        "#Training the Model for red wine\n",
        "w_red=perceptron(X_train_red,y_train_red,0.3)\n",
        "w_red_wine=w_red"
      ],
      "execution_count": null,
      "outputs": [
        {
          "output_type": "stream",
          "name": "stdout",
          "text": [
            "Successfully converged:\n",
            "Accuracy : 85.29718456725756\n"
          ]
        }
      ]
    },
    {
      "cell_type": "code",
      "metadata": {
        "colab": {
          "base_uri": "https://localhost:8080/"
        },
        "id": "_0ujxzMoqd49",
        "outputId": "38c09ccd-500e-40bb-df79-97fbd947dd59"
      },
      "source": [
        "w_red=perceptron(X_valid_red,y_valid_red,0.2)"
      ],
      "execution_count": null,
      "outputs": [
        {
          "output_type": "stream",
          "name": "stdout",
          "text": [
            "Successfully converged:\n",
            "Accuracy : 90.3125\n"
          ]
        }
      ]
    },
    {
      "cell_type": "code",
      "metadata": {
        "colab": {
          "base_uri": "https://localhost:8080/"
        },
        "id": "viQKxOYCpFYS",
        "outputId": "7ab24715-c1a6-4988-fbd2-cf17de9d5ac1"
      },
      "source": [
        "#Hyperparameter tuning\n",
        "w_red=perceptron(X_valid_red,y_valid_red,0.3)"
      ],
      "execution_count": null,
      "outputs": [
        {
          "output_type": "stream",
          "name": "stdout",
          "text": [
            "Successfully converged:\n",
            "Accuracy : 83.75\n"
          ]
        }
      ]
    },
    {
      "cell_type": "code",
      "metadata": {
        "colab": {
          "base_uri": "https://localhost:8080/"
        },
        "id": "c_T374FspNQ_",
        "outputId": "4903dd81-583f-471f-e2b6-2c4fef5d49a8"
      },
      "source": [
        "w_red=perceptron(X_valid_red,y_valid_red,0.4)"
      ],
      "execution_count": null,
      "outputs": [
        {
          "output_type": "stream",
          "name": "stdout",
          "text": [
            "Successfully converged:\n",
            "Accuracy : 85.9375\n"
          ]
        }
      ]
    },
    {
      "cell_type": "code",
      "metadata": {
        "colab": {
          "base_uri": "https://localhost:8080/"
        },
        "id": "jEaLN7O6pfSJ",
        "outputId": "fdc2693c-37bc-4a2c-cb72-48fa25406508"
      },
      "source": [
        "w_red=perceptron(X_valid_red,y_valid_red,0.5)"
      ],
      "execution_count": null,
      "outputs": [
        {
          "output_type": "stream",
          "name": "stdout",
          "text": [
            "Successfully converged:\n",
            "Accuracy : 86.5625\n"
          ]
        }
      ]
    },
    {
      "cell_type": "code",
      "metadata": {
        "colab": {
          "base_uri": "https://localhost:8080/"
        },
        "id": "CFnRjogIpjEL",
        "outputId": "d16072b4-6058-4e02-e012-627ff911ec54"
      },
      "source": [
        "w_red=perceptron(X_valid_red,y_valid_red,0.6)"
      ],
      "execution_count": null,
      "outputs": [
        {
          "output_type": "stream",
          "name": "stdout",
          "text": [
            "Successfully converged:\n",
            "Accuracy : 87.1875\n"
          ]
        }
      ]
    },
    {
      "cell_type": "code",
      "metadata": {
        "colab": {
          "base_uri": "https://localhost:8080/"
        },
        "id": "e87Hls7Wtbxu",
        "outputId": "50c27019-106f-43c3-8652-cf61385d01b7"
      },
      "source": [
        "pred=predict(X_test_red,y_test_red,w_red)\n",
        "print(\"Test Accuracy: \",accuracy_score(y_test_red,pred)*100)"
      ],
      "execution_count": null,
      "outputs": [
        {
          "output_type": "stream",
          "name": "stdout",
          "text": [
            "Test Accuracy:  88.125\n"
          ]
        }
      ]
    },
    {
      "cell_type": "markdown",
      "metadata": {
        "id": "Xu5IoPF5r-j1"
      },
      "source": [
        "For white wine"
      ]
    },
    {
      "cell_type": "code",
      "metadata": {
        "id": "Qf4t5ZDusBIL",
        "colab": {
          "base_uri": "https://localhost:8080/"
        },
        "outputId": "fe5057be-58b8-498e-cbb1-f8b8bf665f2c"
      },
      "source": [
        "#Training the Model for white wine\n",
        "w_white=perceptron(X_train_white,y_train_white,0.4)\n",
        "w_white_wine=w_white"
      ],
      "execution_count": null,
      "outputs": [
        {
          "output_type": "stream",
          "name": "stdout",
          "text": [
            "Successfully converged:\n",
            "Accuracy : 75.90197413206263\n"
          ]
        }
      ]
    },
    {
      "cell_type": "code",
      "metadata": {
        "colab": {
          "base_uri": "https://localhost:8080/"
        },
        "id": "8_H1vOaGqYlq",
        "outputId": "e5e9a6bc-905b-4351-a310-39f5fa9c3d81"
      },
      "source": [
        "w_white=perceptron(X_valid_white,y_valid_white,0.4) "
      ],
      "execution_count": null,
      "outputs": [
        {
          "output_type": "stream",
          "name": "stdout",
          "text": [
            "Successfully converged:\n",
            "Accuracy : 79.48979591836735\n"
          ]
        }
      ]
    },
    {
      "cell_type": "code",
      "metadata": {
        "colab": {
          "base_uri": "https://localhost:8080/"
        },
        "id": "soX0S5gSsI0e",
        "outputId": "bba5510e-1122-4495-c43f-1656ddc3d60d"
      },
      "source": [
        "#Hyperparameter tuning\n",
        "w_white=perceptron(X_valid_white,y_valid_white,0.5) "
      ],
      "execution_count": null,
      "outputs": [
        {
          "output_type": "stream",
          "name": "stdout",
          "text": [
            "Successfully converged:\n",
            "Accuracy : 76.32653061224491\n"
          ]
        }
      ]
    },
    {
      "cell_type": "code",
      "metadata": {
        "colab": {
          "base_uri": "https://localhost:8080/"
        },
        "id": "M2Viy2vrsvWJ",
        "outputId": "2f0ad898-a625-4dcc-864d-7b2393c4310e"
      },
      "source": [
        "w_white=perceptron(X_valid_white,y_valid_white,0.6) "
      ],
      "execution_count": null,
      "outputs": [
        {
          "output_type": "stream",
          "name": "stdout",
          "text": [
            "Successfully converged:\n",
            "Accuracy : 77.14285714285715\n"
          ]
        }
      ]
    },
    {
      "cell_type": "code",
      "metadata": {
        "colab": {
          "base_uri": "https://localhost:8080/"
        },
        "id": "8o3aPXqgszlM",
        "outputId": "a8ceeb6c-1ad7-45c1-cc44-40e16f8bb287"
      },
      "source": [
        "w_white=perceptron(X_valid_white,y_valid_white,0.7) "
      ],
      "execution_count": null,
      "outputs": [
        {
          "output_type": "stream",
          "name": "stdout",
          "text": [
            "Successfully converged:\n",
            "Accuracy : 77.65306122448979\n"
          ]
        }
      ]
    },
    {
      "cell_type": "code",
      "metadata": {
        "colab": {
          "base_uri": "https://localhost:8080/"
        },
        "id": "AJCxxrazt3kB",
        "outputId": "a4a39db3-49a4-491c-8234-1d05dc85e807"
      },
      "source": [
        "pred=predict(X_test_white,y_test_white,w_white)\n",
        "print(\"Test Accuracy: \",accuracy_score(y_test_white,pred)*100)"
      ],
      "execution_count": null,
      "outputs": [
        {
          "output_type": "stream",
          "name": "stdout",
          "text": [
            "Test Accuracy:  77.04081632653062\n"
          ]
        }
      ]
    },
    {
      "cell_type": "code",
      "metadata": {
        "colab": {
          "base_uri": "https://localhost:8080/"
        },
        "id": "HnYVPOrHnKFN",
        "outputId": "49864ceb-d4e7-4aa3-e90d-915bed8983f2"
      },
      "source": [
        "#For red wine\n",
        "\n",
        "k = 5\n",
        "kf = KFold(n_splits=k, random_state=None,shuffle=False) \n",
        "acc_score = []\n",
        "i=1\n",
        "for train_index , test_index in kf.split(X_red):\n",
        "    X_train , X_test = X_red.iloc[train_index],X_red.iloc[test_index]\n",
        "    y_train , y_test = y_red[train_index] , y_red[test_index]\n",
        "    red = perceptron(np.array(X_train),y_train,0.3)\n",
        "    y_pred=predict(np.array(X_test),y_test,red)\n",
        "    acc_score.append(accuracy_score(y_test,y_pred)*100)\n",
        "   \n",
        "    i=i+1 \n",
        "avg_acc_score = sum(acc_score)/k\n",
        "\n",
        "print('accuracy of each fold - {}'.format(acc_score))\n",
        "print('Avg accuracy : {}'.format(avg_acc_score))"
      ],
      "execution_count": null,
      "outputs": [
        {
          "output_type": "stream",
          "name": "stdout",
          "text": [
            "Successfully converged:\n",
            "Accuracy : 84.28459734167319\n",
            "Successfully converged:\n",
            "Accuracy : 87.17748240813135\n",
            "Successfully converged:\n",
            "Accuracy : 86.55199374511336\n",
            "Successfully converged:\n",
            "Accuracy : 88.42845973416732\n",
            "Successfully converged:\n",
            "Accuracy : 84.921875\n",
            "accuracy of each fold - [92.5, 83.4375, 86.25, 78.4375, 90.9090909090909]\n",
            "Avg accuracy : 86.30681818181817\n"
          ]
        }
      ]
    },
    {
      "cell_type": "code",
      "metadata": {
        "colab": {
          "base_uri": "https://localhost:8080/"
        },
        "id": "UeHXg9NSs9QK",
        "outputId": "bceebc17-7116-420c-a70c-651f6b9e3920"
      },
      "source": [
        "pred_red=predict(X_test_red,y_test_red,w_red)\n",
        "pred_white=predict(X_test_white,y_test_white,w_white)\n",
        "cm_red=confusion_matrix(y_test_red,pred_red)\n",
        "cm_white=confusion_matrix(y_test_white,pred_white)\n",
        "print(\"Confusion matrix for red wine \\n\",cm_red)\n",
        "\n",
        "acc_red=accuracy_score(y_test_red,pred_red)\n",
        "\n",
        "#class-wise accuracy,precision,recall for red wine\n",
        "print(\"\\n\\nRED WINE\")\n",
        "print(\"Class-wise precision \\n\",precision_score(y_test_red,pred_red, average=None, zero_division=1))\n",
        "print(\"Class-wise recall \\n \",recall_score(y_test_red,pred_red, average=None, zero_division=1))\n",
        "print(\"Class-wise Accuracy \\n\",(cm_red.astype('float') / cm_red.sum(axis=1)).diagonal())\n"
      ],
      "execution_count": null,
      "outputs": [
        {
          "output_type": "stream",
          "name": "stdout",
          "text": [
            "Confusion matrix for red wine \n",
            " [[267  19]\n",
            " [ 19  15]]\n",
            "\n",
            "\n",
            "RED WINE\n",
            "Class-wise precision \n",
            " [0.93356643 0.44117647]\n",
            "Class-wise recall \n",
            "  [0.93356643 0.44117647]\n",
            "Class-wise Accuracy \n",
            " [0.93356643 0.44117647]\n"
          ]
        }
      ]
    },
    {
      "cell_type": "code",
      "metadata": {
        "id": "8je57laRIgIp",
        "colab": {
          "base_uri": "https://localhost:8080/"
        },
        "outputId": "fe0e4255-9f57-45c1-a801-ab758a5bf95e"
      },
      "source": [
        "#For white wine\n",
        "\n",
        "k = 5\n",
        "kf = KFold(n_splits=k, random_state=None,shuffle=False) \n",
        "acc_score = []\n",
        "i=1\n",
        "for train_index , test_index in kf.split(X_white):\n",
        "    X_train , X_test = X_white.iloc[train_index],X_white.iloc[test_index]\n",
        "    y_train , y_test = y_white[train_index] , y_white[test_index]\n",
        "    white = perceptron(np.array(X_train),y_train,0.6)\n",
        "    y_pred=predict(np.array(X_test),y_test,red)\n",
        "    acc_score.append(accuracy_score(y_test,y_pred)*100)\n",
        "   \n",
        "    i=i+1 \n",
        "avg_acc_score = sum(acc_score)/k\n",
        "\n",
        "print('accuracy of each fold - {}'.format(acc_score))\n",
        "print('Avg accuracy : {}'.format(avg_acc_score))"
      ],
      "execution_count": null,
      "outputs": [
        {
          "output_type": "stream",
          "name": "stdout",
          "text": [
            "Successfully converged:\n",
            "Accuracy : 78.40735068912711\n",
            "Successfully converged:\n",
            "Accuracy : 78.05002552322614\n",
            "Successfully converged:\n",
            "Accuracy : 77.51403777437467\n",
            "Successfully converged:\n",
            "Accuracy : 78.66802755805053\n",
            "Successfully converged:\n",
            "Accuracy : 76.6777239091605\n",
            "accuracy of each fold - [77.14285714285715, 78.77551020408163, 80.91836734693878, 72.11440245148111, 82.63534218590398]\n",
            "Avg accuracy : 78.31729586625254\n"
          ]
        }
      ]
    },
    {
      "cell_type": "code",
      "metadata": {
        "id": "2taSq92HtXUm",
        "colab": {
          "base_uri": "https://localhost:8080/"
        },
        "outputId": "daafd8e1-9ce5-422a-f0c9-e0974ffb3443"
      },
      "source": [
        "#class-wise accuracy,precision,recall for white wine\n",
        "print(\"Confusion matrix for white wine \\n\",cm_white)\n",
        "print(\"\\n\\nWHITE WINE\")\n",
        "print(\"Class-wise precision \\n\",precision_score(y_test_white,pred_white, average=None, zero_division=1))\n",
        "print(\"Class-wise recall \\n \",recall_score(y_test_white,pred_white, average=None, zero_division=1))\n",
        "print(\"Class-wise Accuracy \\n\",(cm_white.astype('float') / cm_white.sum(axis=1)).diagonal())\n"
      ],
      "execution_count": null,
      "outputs": [
        {
          "output_type": "stream",
          "name": "stdout",
          "text": [
            "Confusion matrix for white wine \n",
            " [[742  35]\n",
            " [190  13]]\n",
            "\n",
            "\n",
            "WHITE WINE\n",
            "Class-wise precision \n",
            " [0.79613734 0.27083333]\n",
            "Class-wise recall \n",
            "  [0.95495495 0.06403941]\n",
            "Class-wise Accuracy \n",
            " [0.95495495 0.06403941]\n"
          ]
        }
      ]
    },
    {
      "cell_type": "markdown",
      "metadata": {
        "id": "h8uRpKPTOa2w"
      },
      "source": [
        "### Perceptron with sigmoid activation function"
      ]
    },
    {
      "cell_type": "code",
      "metadata": {
        "id": "nhfdJRMUOgPV"
      },
      "source": [
        "def sigmoid_neuron(X,y,learning_rate):\n",
        "  \n",
        "  X_arr = X\n",
        "  Y_arr = y\n",
        "\n",
        "  X_arr=np.insert(X_arr,0,1,axis=1)\n",
        "  X_arr=np.array(X_arr)\n",
        "  Y_arr=np.array(y)\n",
        "\n",
        "  X_arr, Y_arr = shuffle(X_arr, Y_arr)\n",
        "  l=learning_rate\n",
        " \n",
        "  w=[]\n",
        "  for i in range(X_arr.shape[1]):\n",
        "    w.append(random.uniform(-0.3,0.3))\n",
        "\n",
        "  w= np.array(w)  \n",
        "  visited_index=[]\n",
        "  index = random.randint(0, len(X_arr)-1)\n",
        "  epoch=1\n",
        "  converged=True\n",
        "  err_in=0\n",
        "  err=0\n",
        "  while converged:\n",
        "    X_arr, Y_arr = shuffle(X_arr, Y_arr)\n",
        "    h_x=1/(1+np.exp(-np.dot(X_arr[index],w)))\n",
        "    err_in= err_in+(1/2)*((h_x-Y_arr[index])**2)\n",
        "    for i in range(len(w)):\n",
        "         w[i]=w[i]+(l*(Y_arr[index]-h_x)*X_arr[index][i]*h_x*(1-h_x))\n",
        "    \n",
        "    index = random.randint(0, len(X_arr)-1)\n",
        "    visited_index.append(index)\n",
        "    \n",
        "    if (len(set(visited_index))==len(X_arr)):\n",
        "      pred=predict_sigmoid(X,y,w)\n",
        "      performance=accuracy_score(y,pred)  \n",
        "      h_x=1/(1+np.exp(-(np.dot(X_arr[index],w))))   \n",
        "      err= err+(1/2)*((h_x-Y_arr[index])**2)\n",
        "     \n",
        "      if(abs(err-err_in)<0.001 or performance*100>=75):\n",
        "        print(\"Successfully converged:\")\n",
        "        print(\"Accuracy :\",performance*100)\n",
        "        converged=False\n",
        "      else:\n",
        "        visited_index=[]  \n",
        "    epoch=epoch+1\n",
        "  return w"
      ],
      "execution_count": null,
      "outputs": []
    },
    {
      "cell_type": "code",
      "metadata": {
        "id": "ERUXbnTFOqXV"
      },
      "source": [
        "def predict_sigmoid(X,y,w):\n",
        "\n",
        "  X = X\n",
        "  Y = y\n",
        "\n",
        "  X=np.insert(X,0,1,axis=1)\n",
        "  X_arr=np.array(X)\n",
        "  Y_arr=np.array(y)\n",
        "  Y_predict=np.zeros(len(Y_arr))\n",
        "  \n",
        "  h= 1/(1+np.exp(-(np.dot(X_arr,w))))\n",
        "    \n",
        "  \n",
        "  for i in range(len(h)):\n",
        "     if(h[i]<0.5):\n",
        "       Y_predict[i]=0\n",
        "\n",
        "     if(h[i]>=0.5):\n",
        "       Y_predict[i]=1  \n",
        "  test_acc=accuracy_score(Y_arr,Y_predict)  \n",
        "  \n",
        "  return Y_predict"
      ],
      "execution_count": null,
      "outputs": []
    },
    {
      "cell_type": "markdown",
      "metadata": {
        "id": "lYMgU6pNaXkm"
      },
      "source": [
        "For Red wine"
      ]
    },
    {
      "cell_type": "code",
      "metadata": {
        "id": "j5AQIjqgOuN-",
        "colab": {
          "base_uri": "https://localhost:8080/"
        },
        "outputId": "d9d636bb-4fd4-43fe-ac96-420095b46903"
      },
      "source": [
        "#Training the Model for red wine\n",
        "w_red=sigmoid_neuron(X_train_red,y_train_red,0.6)\n",
        "w_red_wine=w_red"
      ],
      "execution_count": null,
      "outputs": [
        {
          "output_type": "stream",
          "name": "stdout",
          "text": [
            "Successfully converged:\n",
            "Accuracy : 86.75703858185611\n"
          ]
        }
      ]
    },
    {
      "cell_type": "code",
      "metadata": {
        "id": "rOKLt45dY1WY",
        "colab": {
          "base_uri": "https://localhost:8080/"
        },
        "outputId": "e3047cdd-ab6b-424c-aaf5-2bc66590e7dc"
      },
      "source": [
        "#Hyperparameter tuning\n",
        "w_red=sigmoid_neuron(X_valid_red,y_valid_red,0.3)"
      ],
      "execution_count": null,
      "outputs": [
        {
          "output_type": "stream",
          "name": "stdout",
          "text": [
            "Successfully converged:\n",
            "Accuracy : 90.3125\n"
          ]
        }
      ]
    },
    {
      "cell_type": "code",
      "metadata": {
        "id": "YSJDK9xDY8BL",
        "colab": {
          "base_uri": "https://localhost:8080/"
        },
        "outputId": "c969af93-68d3-4deb-86df-033d69dd93bd"
      },
      "source": [
        "w_red=sigmoid_neuron(X_valid_red,y_valid_red,0.4)"
      ],
      "execution_count": null,
      "outputs": [
        {
          "output_type": "stream",
          "name": "stdout",
          "text": [
            "Successfully converged:\n",
            "Accuracy : 89.375\n"
          ]
        }
      ]
    },
    {
      "cell_type": "code",
      "metadata": {
        "id": "TQpA563QY_Kl",
        "colab": {
          "base_uri": "https://localhost:8080/"
        },
        "outputId": "cb512ce6-c6cf-4920-89e9-908baebf2b7b"
      },
      "source": [
        "w_red=sigmoid_neuron(X_valid_red,y_valid_red,0.6) #BEST"
      ],
      "execution_count": null,
      "outputs": [
        {
          "output_type": "stream",
          "name": "stdout",
          "text": [
            "Successfully converged:\n",
            "Accuracy : 88.125\n"
          ]
        }
      ]
    },
    {
      "cell_type": "code",
      "metadata": {
        "id": "yETXebj0ZCVx",
        "colab": {
          "base_uri": "https://localhost:8080/"
        },
        "outputId": "cf45e28d-a058-45e3-e11a-8f580e9033d3"
      },
      "source": [
        "w_red=sigmoid_neuron(X_valid_red,y_valid_red,0.5)"
      ],
      "execution_count": null,
      "outputs": [
        {
          "output_type": "stream",
          "name": "stdout",
          "text": [
            "Successfully converged:\n",
            "Accuracy : 89.6875\n"
          ]
        }
      ]
    },
    {
      "cell_type": "code",
      "metadata": {
        "id": "ssZUvNHluEwu",
        "colab": {
          "base_uri": "https://localhost:8080/"
        },
        "outputId": "70ac1ab3-7099-4242-e670-94965c96ee79"
      },
      "source": [
        "pred=predict_sigmoid(X_test_red,y_test_red,w_red)\n",
        "print(\"Test Accuracy: \",accuracy_score(y_test_red,pred)*100)"
      ],
      "execution_count": null,
      "outputs": [
        {
          "output_type": "stream",
          "name": "stdout",
          "text": [
            "Test Accuracy:  87.5\n"
          ]
        }
      ]
    },
    {
      "cell_type": "markdown",
      "metadata": {
        "id": "5Oxn-wsbaaOG"
      },
      "source": [
        "For white wine"
      ]
    },
    {
      "cell_type": "code",
      "metadata": {
        "id": "hzfzCoSSae2k",
        "colab": {
          "base_uri": "https://localhost:8080/"
        },
        "outputId": "2296a9c5-2662-436f-d9f0-dfc7748df3d6"
      },
      "source": [
        "#Training the Model for white wine\n",
        "w_white=sigmoid_neuron(X_train_white,y_train_white,0.5)\n",
        "w_white_wine=w_white"
      ],
      "execution_count": null,
      "outputs": [
        {
          "output_type": "stream",
          "name": "stdout",
          "text": [
            "Successfully converged:\n",
            "Accuracy : 78.48876786929885\n"
          ]
        }
      ]
    },
    {
      "cell_type": "code",
      "metadata": {
        "id": "dFkiMUMQqNU5",
        "colab": {
          "base_uri": "https://localhost:8080/"
        },
        "outputId": "5defad40-d438-448d-9aae-0c8fa406f495"
      },
      "source": [
        "w_white=sigmoid_neuron(X_valid_white,y_valid_white,0.4)"
      ],
      "execution_count": null,
      "outputs": [
        {
          "output_type": "stream",
          "name": "stdout",
          "text": [
            "Successfully converged:\n",
            "Accuracy : 82.0408163265306\n"
          ]
        }
      ]
    },
    {
      "cell_type": "code",
      "metadata": {
        "id": "5UFiMeTzb7tV",
        "colab": {
          "base_uri": "https://localhost:8080/"
        },
        "outputId": "2f4fd1eb-def1-44ed-e0a6-26b7a09a2131"
      },
      "source": [
        "#Hyperparameter tuning\n",
        "w_white=sigmoid_neuron(X_valid_white,y_valid_white,0.5) #BEST"
      ],
      "execution_count": null,
      "outputs": [
        {
          "output_type": "stream",
          "name": "stdout",
          "text": [
            "Successfully converged:\n",
            "Accuracy : 81.53061224489797\n"
          ]
        }
      ]
    },
    {
      "cell_type": "code",
      "metadata": {
        "id": "3_7J_CAobRNh",
        "colab": {
          "base_uri": "https://localhost:8080/"
        },
        "outputId": "07e58c5d-51c6-488b-8086-987af9ae1ae0"
      },
      "source": [
        "w_white=sigmoid_neuron(X_valid_white,y_valid_white,0.6)"
      ],
      "execution_count": null,
      "outputs": [
        {
          "output_type": "stream",
          "name": "stdout",
          "text": [
            "Successfully converged:\n",
            "Accuracy : 81.3265306122449\n"
          ]
        }
      ]
    },
    {
      "cell_type": "code",
      "metadata": {
        "id": "2-Hiyg6VcN3W",
        "colab": {
          "base_uri": "https://localhost:8080/"
        },
        "outputId": "869526d3-6b6d-44b6-d566-b279a94c964b"
      },
      "source": [
        "w_white=sigmoid_neuron(X_valid_white,y_valid_white,0.7)"
      ],
      "execution_count": null,
      "outputs": [
        {
          "output_type": "stream",
          "name": "stdout",
          "text": [
            "Successfully converged:\n",
            "Accuracy : 81.0204081632653\n"
          ]
        }
      ]
    },
    {
      "cell_type": "code",
      "metadata": {
        "id": "7d63aNKsuK1g",
        "colab": {
          "base_uri": "https://localhost:8080/"
        },
        "outputId": "6f98fad7-93ed-44f0-a73b-100991725cf2"
      },
      "source": [
        "pred=predict_sigmoid(X_test_white,y_test_white,w_white)\n",
        "print(\"Test Accuracy: \",accuracy_score(y_test_white,pred)*100)"
      ],
      "execution_count": null,
      "outputs": [
        {
          "output_type": "stream",
          "name": "stdout",
          "text": [
            "Test Accuracy:  79.48979591836735\n"
          ]
        }
      ]
    },
    {
      "cell_type": "code",
      "metadata": {
        "id": "2tDd72aQPEy8",
        "colab": {
          "base_uri": "https://localhost:8080/"
        },
        "outputId": "7cf9d19a-ca53-41f4-9e40-0344ca1bc420"
      },
      "source": [
        "pred_red=predict_sigmoid(X_test_red,y_test_red,w_red)\n",
        "pred_white=predict_sigmoid(X_test_white,y_test_white,w_white)\n",
        "cm_red=confusion_matrix(y_test_red,pred_red)\n",
        "cm_white=confusion_matrix(y_test_white,pred_white)\n",
        "print(\"Confusion matrix for red wine \\n\",cm_red)\n",
        "\n",
        "acc_red=accuracy_score(y_test_red,pred_red)\n",
        "\n",
        "#class-wise accuracy,precision,recall for red wine\n",
        "print(\"\\n\\nRED WINE\")\n",
        "print(\"Class-wise precision \\n\",precision_score(y_test_red,pred_red, average=None, zero_division=1))\n",
        "print(\"Class-wise recall \\n \",recall_score(y_test_red,pred_red, average=None, zero_division=1))\n",
        "print(\"Class-wise Accuracy \\n\",(cm_red.astype('float') / cm_red.sum(axis=1)).diagonal())\n"
      ],
      "execution_count": null,
      "outputs": [
        {
          "output_type": "stream",
          "name": "stdout",
          "text": [
            "Confusion matrix for red wine \n",
            " [[260  26]\n",
            " [ 14  20]]\n",
            "\n",
            "\n",
            "RED WINE\n",
            "Class-wise precision \n",
            " [0.94890511 0.43478261]\n",
            "Class-wise recall \n",
            "  [0.90909091 0.58823529]\n",
            "Class-wise Accuracy \n",
            " [0.90909091 0.58823529]\n"
          ]
        }
      ]
    },
    {
      "cell_type": "code",
      "metadata": {
        "id": "DkAfPMUeKfq3",
        "colab": {
          "base_uri": "https://localhost:8080/"
        },
        "outputId": "d0fee07e-9121-4ceb-c50b-29b4d04b4358"
      },
      "source": [
        "#For red wine\n",
        "\n",
        "k = 5\n",
        "kf = KFold(n_splits=k, random_state=None,shuffle=False) \n",
        "acc_score = []\n",
        "i=1\n",
        "for train_index , test_index in kf.split(X_red):\n",
        "    X_train , X_test = X_red.iloc[train_index],X_red.iloc[test_index]\n",
        "    y_train , y_test = y_red[train_index] , y_red[test_index]\n",
        "    red = sigmoid_neuron(np.array(X_train),y_train,0.5)\n",
        "    y_pred=predict_sigmoid(np.array(X_test),y_test,red)\n",
        "    acc_score.append(accuracy_score(y_test,y_pred)*100)\n",
        "   \n",
        "    i=i+1 \n",
        "avg_acc_score = sum(acc_score)/k\n",
        "\n",
        "print('accuracy of each fold - {}'.format(acc_score))\n",
        "print('Avg accuracy : {}'.format(avg_acc_score))"
      ],
      "execution_count": null,
      "outputs": [
        {
          "output_type": "stream",
          "name": "stdout",
          "text": [
            "Successfully converged:\n",
            "Accuracy : 84.91008600469117\n"
          ]
        },
        {
          "output_type": "stream",
          "name": "stderr",
          "text": [
            "/usr/local/lib/python3.7/dist-packages/ipykernel_launcher.py:26: RuntimeWarning: overflow encountered in exp\n",
            "/usr/local/lib/python3.7/dist-packages/ipykernel_launcher.py:11: RuntimeWarning: overflow encountered in exp\n",
            "  # This is added back by InteractiveShellApp.init_path()\n"
          ]
        },
        {
          "output_type": "stream",
          "name": "stdout",
          "text": [
            "Successfully converged:\n",
            "Accuracy : 87.17748240813135\n",
            "Successfully converged:\n",
            "Accuracy : 86.70836591086787\n",
            "Successfully converged:\n",
            "Accuracy : 88.42845973416732\n",
            "Successfully converged:\n",
            "Accuracy : 84.921875\n",
            "accuracy of each fold - [92.5, 83.4375, 85.3125, 78.4375, 92.47648902821317]\n",
            "Avg accuracy : 86.43279780564264\n"
          ]
        }
      ]
    },
    {
      "cell_type": "code",
      "metadata": {
        "id": "gA0OyGHwc8zT",
        "colab": {
          "base_uri": "https://localhost:8080/"
        },
        "outputId": "78695fc9-f4df-4d17-e491-d198a10f972e"
      },
      "source": [
        "#class-wise accuracy,precision,recall for white wine\n",
        "print(\"Confusion matrix for white wine \\n\",cm_white)\n",
        "print(\"\\n\\nWHITE WINE\")\n",
        "print(\"Class-wise precision \\n\",precision_score(y_test_white,pred_white, average=None, zero_division=1))\n",
        "print(\"Class-wise recall \\n \",recall_score(y_test_white,pred_white, average=None, zero_division=1))\n",
        "print(\"Class-wise Accuracy \\n\",(cm_white.astype('float') / cm_white.sum(axis=1)).diagonal())\n"
      ],
      "execution_count": null,
      "outputs": [
        {
          "output_type": "stream",
          "name": "stdout",
          "text": [
            "Confusion matrix for white wine \n",
            " [[684  93]\n",
            " [108  95]]\n",
            "\n",
            "\n",
            "WHITE WINE\n",
            "Class-wise precision \n",
            " [0.86363636 0.50531915]\n",
            "Class-wise recall \n",
            "  [0.88030888 0.4679803 ]\n",
            "Class-wise Accuracy \n",
            " [0.88030888 0.4679803 ]\n"
          ]
        }
      ]
    },
    {
      "cell_type": "code",
      "metadata": {
        "id": "HD7b5l6iK1QP",
        "colab": {
          "base_uri": "https://localhost:8080/"
        },
        "outputId": "a8e4df18-b44f-4112-f8cd-e8ab4ffb5b77"
      },
      "source": [
        "#For white wine\n",
        "\n",
        "k = 5\n",
        "kf = KFold(n_splits=k, random_state=None,shuffle=False) \n",
        "acc_score = []\n",
        "i=1\n",
        "for train_index , test_index in kf.split(X_white):\n",
        "    X_train , X_test = X_white.iloc[train_index],X_white.iloc[test_index]\n",
        "    y_train , y_test = y_white[train_index] , y_white[test_index]\n",
        "    white = sigmoid_neuron(np.array(X_train),y_train,0.6)\n",
        "    y_pred=predict_sigmoid(np.array(X_test),y_test,red)\n",
        "    acc_score.append(accuracy_score(y_test,y_pred)*100)\n",
        "   \n",
        "    i=i+1 \n",
        "avg_acc_score = sum(acc_score)/k\n",
        "\n",
        "print('accuracy of each fold - {}'.format(acc_score))\n",
        "print('Avg accuracy : {}'.format(avg_acc_score))"
      ],
      "execution_count": null,
      "outputs": [
        {
          "output_type": "stream",
          "name": "stdout",
          "text": [
            "Successfully converged:\n",
            "Accuracy : 78.66258295048493\n"
          ]
        },
        {
          "output_type": "stream",
          "name": "stderr",
          "text": [
            "/usr/local/lib/python3.7/dist-packages/ipykernel_launcher.py:11: RuntimeWarning: overflow encountered in exp\n",
            "  # This is added back by InteractiveShellApp.init_path()\n"
          ]
        },
        {
          "output_type": "stream",
          "name": "stdout",
          "text": [
            "Successfully converged:\n",
            "Accuracy : 78.25421133231241\n",
            "Successfully converged:\n",
            "Accuracy : 77.71822358346095\n"
          ]
        },
        {
          "output_type": "stream",
          "name": "stderr",
          "text": [
            "/usr/local/lib/python3.7/dist-packages/ipykernel_launcher.py:26: RuntimeWarning: overflow encountered in exp\n"
          ]
        },
        {
          "output_type": "stream",
          "name": "stdout",
          "text": [
            "Successfully converged:\n",
            "Accuracy : 79.86731309007399\n",
            "Successfully converged:\n",
            "Accuracy : 77.2901250318959\n",
            "accuracy of each fold - [77.14285714285715, 78.77551020408163, 80.91836734693878, 72.31869254341164, 82.63534218590398]\n",
            "Avg accuracy : 78.35815388463865\n"
          ]
        }
      ]
    },
    {
      "cell_type": "markdown",
      "metadata": {
        "id": "bfuJtUSW1Vnr"
      },
      "source": [
        "## Multi Layer Perceptron"
      ]
    },
    {
      "cell_type": "code",
      "metadata": {
        "id": "884iURxR5ZYv"
      },
      "source": [
        "from sklearn.neural_network import MLPClassifier"
      ],
      "execution_count": null,
      "outputs": []
    },
    {
      "cell_type": "code",
      "metadata": {
        "id": "3JDgt2WddsnC"
      },
      "source": [
        "#red wine\n",
        "param_grid = [    \n",
        "    {\n",
        "    'alpha': [0.1,0.01],\n",
        "     \n",
        "    'max_iter' : [1000,2000,3000],\n",
        "    }\n",
        "]\n",
        "\n",
        "clf = GridSearchCV(MLPClassifier(),param_grid, n_jobs=-1)\n",
        "\n",
        "best_clf = clf.fit(X_train_red, y_train_red)"
      ],
      "execution_count": null,
      "outputs": []
    },
    {
      "cell_type": "code",
      "metadata": {
        "id": "GyqeoiqAfOBz",
        "colab": {
          "base_uri": "https://localhost:8080/"
        },
        "outputId": "436b70ac-42f6-40ab-ef44-daf8796a91da"
      },
      "source": [
        "best_clf.best_estimator_"
      ],
      "execution_count": null,
      "outputs": [
        {
          "output_type": "execute_result",
          "data": {
            "text/plain": [
              "MLPClassifier(activation='relu', alpha=0.01, batch_size='auto', beta_1=0.9,\n",
              "              beta_2=0.999, early_stopping=False, epsilon=1e-08,\n",
              "              hidden_layer_sizes=(100,), learning_rate='constant',\n",
              "              learning_rate_init=0.001, max_fun=15000, max_iter=3000,\n",
              "              momentum=0.9, n_iter_no_change=10, nesterovs_momentum=True,\n",
              "              power_t=0.5, random_state=None, shuffle=True, solver='adam',\n",
              "              tol=0.0001, validation_fraction=0.1, verbose=False,\n",
              "              warm_start=False)"
            ]
          },
          "metadata": {},
          "execution_count": 164
        }
      ]
    },
    {
      "cell_type": "code",
      "metadata": {
        "id": "rk1dhzWB5b5g",
        "colab": {
          "base_uri": "https://localhost:8080/"
        },
        "outputId": "a1cc065a-50c6-4fc2-bc29-c620c739a9bd"
      },
      "source": [
        "#For red wine\n",
        "\n",
        "MLP_red = MLPClassifier(alpha=0.1,max_iter=3000).fit(X_train_red, y_train_red.ravel())\n",
        "print(\"Training Accuracy: \",MLP_red.score(X_train_red, y_train_red)*100)\n",
        "print(\"Test Accuracy: \",MLP_red.score(X_test_red, y_test_red)*100)"
      ],
      "execution_count": null,
      "outputs": [
        {
          "output_type": "stream",
          "name": "stdout",
          "text": [
            "Training Accuracy:  97.49739311783108\n",
            "Test Accuracy:  90.3125\n"
          ]
        }
      ]
    },
    {
      "cell_type": "code",
      "metadata": {
        "id": "NZFLrlVTgNG_"
      },
      "source": [
        "#white wine\n",
        "param_grid = [    \n",
        "    {\n",
        "    'alpha': [0.1,0.01],\n",
        "     \n",
        "    'max_iter' : [1000,2000,3000],\n",
        "    }\n",
        "]\n",
        "\n",
        "clf = GridSearchCV(MLPClassifier(),param_grid, n_jobs=-1)\n",
        "\n",
        "best_clf = clf.fit(X_train_white, y_train_white)"
      ],
      "execution_count": null,
      "outputs": []
    },
    {
      "cell_type": "code",
      "metadata": {
        "id": "mcz6fNRDgR-w",
        "colab": {
          "base_uri": "https://localhost:8080/"
        },
        "outputId": "48c5fbd1-6206-4d25-aeb9-e34097972c39"
      },
      "source": [
        "best_clf.best_estimator_"
      ],
      "execution_count": null,
      "outputs": [
        {
          "output_type": "execute_result",
          "data": {
            "text/plain": [
              "MLPClassifier(activation='relu', alpha=0.01, batch_size='auto', beta_1=0.9,\n",
              "              beta_2=0.999, early_stopping=False, epsilon=1e-08,\n",
              "              hidden_layer_sizes=(100,), learning_rate='constant',\n",
              "              learning_rate_init=0.001, max_fun=15000, max_iter=2000,\n",
              "              momentum=0.9, n_iter_no_change=10, nesterovs_momentum=True,\n",
              "              power_t=0.5, random_state=None, shuffle=True, solver='adam',\n",
              "              tol=0.0001, validation_fraction=0.1, verbose=False,\n",
              "              warm_start=False)"
            ]
          },
          "metadata": {},
          "execution_count": 167
        }
      ]
    },
    {
      "cell_type": "code",
      "metadata": {
        "id": "Y8O8J6bv56fw",
        "colab": {
          "base_uri": "https://localhost:8080/"
        },
        "outputId": "465ea06c-e6c7-4caa-d00a-0c48c0e63c02"
      },
      "source": [
        "#For white wine\n",
        "\n",
        "MLP_white = MLPClassifier(alpha=0.001,max_iter=1000).fit(X_train_white, y_train_white.ravel())\n",
        "print(\"Training Accuracy: \",MLP_white.score(X_train_white, y_train_white)*100)\n",
        "print(\"Testing Accuracy: \",MLP_white.score(X_test_white, y_test_white)*100)"
      ],
      "execution_count": null,
      "outputs": [
        {
          "output_type": "stream",
          "name": "stdout",
          "text": [
            "Training Accuracy:  93.05650102110279\n",
            "Testing Accuracy:  83.46938775510205\n"
          ]
        }
      ]
    },
    {
      "cell_type": "code",
      "metadata": {
        "id": "RV0WIrDA9w0H",
        "colab": {
          "base_uri": "https://localhost:8080/"
        },
        "outputId": "86d245a6-7d26-4efd-9d8a-efaae767ea35"
      },
      "source": [
        "pred_red=MLP_red.predict(X_test_red)\n",
        "pred_white=MLP_white.predict(X_test_white)\n",
        "cm_red=confusion_matrix(y_test_red,pred_red)\n",
        "cm_white=confusion_matrix(y_test_white,pred_white)\n",
        "print(\"Confusion matrix for red wine \\n\",cm_red)\n",
        "\n",
        "acc_red=accuracy_score(y_test_red,pred_red)\n",
        "\n",
        "#class-wise accuracy,precision,recall for red wine\n",
        "print(\"\\n\\nRED WINE\")\n",
        "print(\"Class-wise precision \\n\",precision_score(y_test_red,pred_red, average=None, zero_division=1))\n",
        "print(\"Class-wise recall \\n \",recall_score(y_test_red,pred_red, average=None, zero_division=1))\n",
        "print(\"Class-wise Accuracy \\n\",(cm_red.astype('float') / cm_red.sum(axis=1)).diagonal())\n"
      ],
      "execution_count": null,
      "outputs": [
        {
          "output_type": "stream",
          "name": "stdout",
          "text": [
            "Confusion matrix for red wine \n",
            " [[270  16]\n",
            " [ 15  19]]\n",
            "\n",
            "\n",
            "RED WINE\n",
            "Class-wise precision \n",
            " [0.94736842 0.54285714]\n",
            "Class-wise recall \n",
            "  [0.94405594 0.55882353]\n",
            "Class-wise Accuracy \n",
            " [0.94405594 0.55882353]\n"
          ]
        }
      ]
    },
    {
      "cell_type": "code",
      "metadata": {
        "id": "nyL3RN-Z6ZiB",
        "colab": {
          "base_uri": "https://localhost:8080/"
        },
        "outputId": "fed24484-51a9-44fd-8086-4bb7c3b8d3d5"
      },
      "source": [
        "#For red wine\n",
        "\n",
        "k = 5\n",
        "kf = KFold(n_splits=k, random_state=None,shuffle=False) \n",
        "acc_score = []\n",
        "i=1\n",
        "for train_index , test_index in kf.split(X_red):\n",
        "    X_train_red , X_test_red = X_red.iloc[train_index],X_red.iloc[test_index]\n",
        "    y_train_red , y_test_red = y_red[train_index] , y_red[test_index]\n",
        "     \n",
        "    red = MLPClassifier(alpha=0.1,max_iter=3000).fit(X_train_red, y_train_red.ravel())\n",
        "    y_pred=red.predict(X_test_red)\n",
        "    acc_score.append(red.score(X_test_red, y_test_red)*100)\n",
        "    i=i+1 \n",
        "avg_acc_score = sum(acc_score)/k\n",
        "\n",
        "print('accuracy of each fold - {}'.format(acc_score))\n",
        "print('Avg accuracy : {}'.format(avg_acc_score))"
      ],
      "execution_count": null,
      "outputs": [
        {
          "output_type": "stream",
          "name": "stdout",
          "text": [
            "accuracy of each fold - [93.4375, 82.1875, 89.0625, 80.3125, 91.53605015673982]\n",
            "Avg accuracy : 87.30721003134796\n"
          ]
        }
      ]
    },
    {
      "cell_type": "code",
      "metadata": {
        "id": "-dFq8IGHThCa",
        "colab": {
          "base_uri": "https://localhost:8080/"
        },
        "outputId": "298c3908-c025-4502-885b-2f3e993b9ebe"
      },
      "source": [
        "#class-wise accuracy,precision,recall for white wine\n",
        "print(\"Confusion matrix for white wine \\n\",cm_white)\n",
        "print(\"\\n\\nWHITE WINE\")\n",
        "print(\"Class-wise precision \\n\",precision_score(y_test_white,pred_white, average=None, zero_division=1))\n",
        "print(\"Class-wise recall \\n \",recall_score(y_test_white,pred_white, average=None, zero_division=1))\n",
        "print(\"Class-wise Accuracy \\n\",(cm_white.astype('float') / cm_white.sum(axis=1)).diagonal())\n"
      ],
      "execution_count": null,
      "outputs": [
        {
          "output_type": "stream",
          "name": "stdout",
          "text": [
            "Confusion matrix for white wine \n",
            " [[706  71]\n",
            " [ 91 112]]\n",
            "\n",
            "\n",
            "WHITE WINE\n",
            "Class-wise precision \n",
            " [0.88582183 0.61202186]\n",
            "Class-wise recall \n",
            "  [0.90862291 0.55172414]\n",
            "Class-wise Accuracy \n",
            " [0.90862291 0.55172414]\n"
          ]
        }
      ]
    },
    {
      "cell_type": "code",
      "metadata": {
        "id": "Jn5mIonv-MYJ",
        "colab": {
          "base_uri": "https://localhost:8080/"
        },
        "outputId": "460fdb4a-2d33-4b16-da14-fac3bbe0e43a"
      },
      "source": [
        "#For white wine\n",
        "\n",
        "k = 5\n",
        "kf = KFold(n_splits=k, random_state=None,shuffle=False) \n",
        "acc_score = []\n",
        "i=1\n",
        "for train_index , test_index in kf.split(X_white):\n",
        "    X_train_white , X_test_white = X_white.iloc[train_index],X_white.iloc[test_index]\n",
        "    y_train_white , y_test_white = y_white[train_index] , y_white[test_index]\n",
        "     \n",
        "    white = MLPClassifier(alpha=0.1,max_iter=1000).fit(X_train_white, y_train_white.ravel())\n",
        "    y_pred=white.predict(X_test_white)\n",
        "    acc_score.append(white.score(X_test_white, y_test_white)*100)\n",
        "    i=i+1 \n",
        "avg_acc_score = sum(acc_score)/k\n",
        "\n",
        "print('accuracy of each fold - {}'.format(acc_score))\n",
        "print('Avg accuracy : {}'.format(avg_acc_score))"
      ],
      "execution_count": null,
      "outputs": [
        {
          "output_type": "stream",
          "name": "stdout",
          "text": [
            "accuracy of each fold - [81.3265306122449, 79.48979591836735, 84.28571428571429, 73.8508682328907, 79.87742594484168]\n",
            "Avg accuracy : 79.76606699881178\n"
          ]
        }
      ]
    }
  ]
}